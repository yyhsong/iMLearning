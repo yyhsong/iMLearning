{
 "cells": [
  {
   "cell_type": "code",
   "execution_count": 3,
   "metadata": {},
   "outputs": [],
   "source": [
    "# 导入相关的库\n",
    "import numpy as np\n",
    "import pandas as pd"
   ]
  },
  {
   "cell_type": "markdown",
   "metadata": {},
   "source": [
    "# 数据勘查"
   ]
  },
  {
   "cell_type": "code",
   "execution_count": 4,
   "metadata": {},
   "outputs": [],
   "source": [
    "# 读取数据 - 波士顿房价数据集\n",
    "data = pd.read_csv(r'../Datasets/boston.csv')"
   ]
  },
  {
   "cell_type": "markdown",
   "metadata": {},
   "source": [
    "波士顿房价数据集字段说明\n",
    "* CRIM 房屋所在镇的犯罪率\n",
    "* ZN 面积大于25000平方英尺住宅所占的比例\n",
    "* INDUS 房屋所在镇非零售区域所占比例\n",
    "* CHAS 房屋是否位于河边，如果位于河边，则值为1，否则值为0.\n",
    "* NOX 一氧化氮的浓度\n",
    "* RM 平均房间数量\n",
    "* AGE 1940年前建成房屋所占的比例\n",
    "* DIS 房屋距离波士顿五大就业中心的加权距离\n",
    "* RAD 距离房屋最近的公路\n",
    "* TAX 财产税额度\n",
    "* PTRATIO 房屋所在镇师生比例\n",
    "* B 计算公式： 1000 * （房屋所在镇非美籍人口所在比例 - 0.63） ** 2\n",
    "* LSTAT 弱势群体人口所占比例\n",
    "* MEDV 房屋的平均价格"
   ]
  },
  {
   "cell_type": "code",
   "execution_count": 5,
   "metadata": {},
   "outputs": [
    {
     "name": "stdout",
     "output_type": "stream",
     "text": [
      "<class 'pandas.core.frame.DataFrame'>\n",
      "RangeIndex: 506 entries, 0 to 505\n",
      "Data columns (total 14 columns):\n",
      " #   Column   Non-Null Count  Dtype  \n",
      "---  ------   --------------  -----  \n",
      " 0   CRIM     506 non-null    float64\n",
      " 1   ZN       506 non-null    float64\n",
      " 2   INDUS    506 non-null    float64\n",
      " 3   CHAS     506 non-null    float64\n",
      " 4   NOX      506 non-null    float64\n",
      " 5   RM       506 non-null    float64\n",
      " 6   AGE      506 non-null    float64\n",
      " 7   DIS      506 non-null    float64\n",
      " 8   RAD      506 non-null    float64\n",
      " 9   TAX      506 non-null    float64\n",
      " 10  PTRATIO  506 non-null    float64\n",
      " 11  B        506 non-null    float64\n",
      " 12  LSTAT    506 non-null    float64\n",
      " 13  MEDV     506 non-null    float64\n",
      "dtypes: float64(14)\n",
      "memory usage: 55.5 KB\n"
     ]
    }
   ],
   "source": [
    "# 查看数据的基本信息\n",
    "data.info()"
   ]
  },
  {
   "cell_type": "code",
   "execution_count": 6,
   "metadata": {},
   "outputs": [
    {
     "data": {
      "text/plain": [
       "False"
      ]
     },
     "execution_count": 6,
     "metadata": {},
     "output_type": "execute_result"
    }
   ],
   "source": [
    "# 查看数据是否有重复值\n",
    "data.duplicated().any()"
   ]
  },
  {
   "cell_type": "code",
   "execution_count": 7,
   "metadata": {
    "scrolled": false
   },
   "outputs": [
    {
     "data": {
      "text/html": [
       "<div>\n",
       "<style scoped>\n",
       "    .dataframe tbody tr th:only-of-type {\n",
       "        vertical-align: middle;\n",
       "    }\n",
       "\n",
       "    .dataframe tbody tr th {\n",
       "        vertical-align: top;\n",
       "    }\n",
       "\n",
       "    .dataframe thead th {\n",
       "        text-align: right;\n",
       "    }\n",
       "</style>\n",
       "<table border=\"1\" class=\"dataframe\">\n",
       "  <thead>\n",
       "    <tr style=\"text-align: right;\">\n",
       "      <th></th>\n",
       "      <th>CRIM</th>\n",
       "      <th>ZN</th>\n",
       "      <th>INDUS</th>\n",
       "      <th>CHAS</th>\n",
       "      <th>NOX</th>\n",
       "      <th>RM</th>\n",
       "      <th>AGE</th>\n",
       "      <th>DIS</th>\n",
       "      <th>RAD</th>\n",
       "      <th>TAX</th>\n",
       "      <th>PTRATIO</th>\n",
       "      <th>B</th>\n",
       "      <th>LSTAT</th>\n",
       "      <th>MEDV</th>\n",
       "    </tr>\n",
       "  </thead>\n",
       "  <tbody>\n",
       "    <tr>\n",
       "      <th>341</th>\n",
       "      <td>0.01301</td>\n",
       "      <td>35.0</td>\n",
       "      <td>1.52</td>\n",
       "      <td>0.0</td>\n",
       "      <td>0.442</td>\n",
       "      <td>7.241</td>\n",
       "      <td>49.3</td>\n",
       "      <td>7.0379</td>\n",
       "      <td>1.0</td>\n",
       "      <td>284.0</td>\n",
       "      <td>15.5</td>\n",
       "      <td>394.74</td>\n",
       "      <td>5.49</td>\n",
       "      <td>32.7</td>\n",
       "    </tr>\n",
       "    <tr>\n",
       "      <th>455</th>\n",
       "      <td>4.75237</td>\n",
       "      <td>0.0</td>\n",
       "      <td>18.10</td>\n",
       "      <td>0.0</td>\n",
       "      <td>0.713</td>\n",
       "      <td>6.525</td>\n",
       "      <td>86.5</td>\n",
       "      <td>2.4358</td>\n",
       "      <td>24.0</td>\n",
       "      <td>666.0</td>\n",
       "      <td>20.2</td>\n",
       "      <td>50.92</td>\n",
       "      <td>18.13</td>\n",
       "      <td>14.1</td>\n",
       "    </tr>\n",
       "    <tr>\n",
       "      <th>244</th>\n",
       "      <td>0.20608</td>\n",
       "      <td>22.0</td>\n",
       "      <td>5.86</td>\n",
       "      <td>0.0</td>\n",
       "      <td>0.431</td>\n",
       "      <td>5.593</td>\n",
       "      <td>76.5</td>\n",
       "      <td>7.9549</td>\n",
       "      <td>7.0</td>\n",
       "      <td>330.0</td>\n",
       "      <td>19.1</td>\n",
       "      <td>372.49</td>\n",
       "      <td>12.50</td>\n",
       "      <td>17.6</td>\n",
       "    </tr>\n",
       "    <tr>\n",
       "      <th>15</th>\n",
       "      <td>0.62739</td>\n",
       "      <td>0.0</td>\n",
       "      <td>8.14</td>\n",
       "      <td>0.0</td>\n",
       "      <td>0.538</td>\n",
       "      <td>5.834</td>\n",
       "      <td>56.5</td>\n",
       "      <td>4.4986</td>\n",
       "      <td>4.0</td>\n",
       "      <td>307.0</td>\n",
       "      <td>21.0</td>\n",
       "      <td>395.62</td>\n",
       "      <td>8.47</td>\n",
       "      <td>19.9</td>\n",
       "    </tr>\n",
       "    <tr>\n",
       "      <th>181</th>\n",
       "      <td>0.06888</td>\n",
       "      <td>0.0</td>\n",
       "      <td>2.46</td>\n",
       "      <td>0.0</td>\n",
       "      <td>0.488</td>\n",
       "      <td>6.144</td>\n",
       "      <td>62.2</td>\n",
       "      <td>2.5979</td>\n",
       "      <td>3.0</td>\n",
       "      <td>193.0</td>\n",
       "      <td>17.8</td>\n",
       "      <td>396.90</td>\n",
       "      <td>9.45</td>\n",
       "      <td>36.2</td>\n",
       "    </tr>\n",
       "  </tbody>\n",
       "</table>\n",
       "</div>"
      ],
      "text/plain": [
       "        CRIM    ZN  INDUS  CHAS    NOX     RM   AGE     DIS   RAD    TAX  \\\n",
       "341  0.01301  35.0   1.52   0.0  0.442  7.241  49.3  7.0379   1.0  284.0   \n",
       "455  4.75237   0.0  18.10   0.0  0.713  6.525  86.5  2.4358  24.0  666.0   \n",
       "244  0.20608  22.0   5.86   0.0  0.431  5.593  76.5  7.9549   7.0  330.0   \n",
       "15   0.62739   0.0   8.14   0.0  0.538  5.834  56.5  4.4986   4.0  307.0   \n",
       "181  0.06888   0.0   2.46   0.0  0.488  6.144  62.2  2.5979   3.0  193.0   \n",
       "\n",
       "     PTRATIO       B  LSTAT  MEDV  \n",
       "341     15.5  394.74   5.49  32.7  \n",
       "455     20.2   50.92  18.13  14.1  \n",
       "244     19.1  372.49  12.50  17.6  \n",
       "15      21.0  395.62   8.47  19.9  \n",
       "181     17.8  396.90   9.45  36.2  "
      ]
     },
     "execution_count": 7,
     "metadata": {},
     "output_type": "execute_result"
    }
   ],
   "source": [
    "# 前五条数据\n",
    "# data.head()\n",
    "\n",
    "# 最后五条数据\n",
    "# data.tail()\n",
    "\n",
    "# 随机5条数据\n",
    "data.sample(5)"
   ]
  },
  {
   "cell_type": "markdown",
   "metadata": {},
   "source": [
    "# 算法实现"
   ]
  },
  {
   "cell_type": "code",
   "execution_count": 31,
   "metadata": {},
   "outputs": [],
   "source": [
    "\"\"\"使用最小二乘法实现线性回归\"\"\"\n",
    "\n",
    "class LinearRegression:\n",
    "    \n",
    "    # 根据提供的训练集，对模型进行训练\n",
    "    # X：类数组类型，形状[样本数量，特征数量]，特征矩阵\n",
    "    # y：类数组类型，形状[样本数量]\n",
    "    def fit(self, X, y):\n",
    "        # 通过创建X的拷贝，避免转换成矩阵失败\n",
    "        X = np.asmatrix(X.copy())\n",
    "        \n",
    "        # y是一维结构（行向量或列向量），一维结构可以不用进行拷贝\n",
    "        # 算法需要矩阵预算，使用reshape转换成二维结构\n",
    "        y = np.asmatrix(y).reshape(-1, 1)\n",
    "    \n",
    "        # 使用最小二乘公式，求解各特征权重值\n",
    "        self._w = (X.T * X).I * X.T * y\n",
    "\n",
    "    # 根据样本数据进行预测\n",
    "    def predict(self, X):\n",
    "        # 将X转换为矩阵\n",
    "        X = np.asmatrix(X.copy())\n",
    "        \n",
    "        # 计算结果\n",
    "        result = X * self._w\n",
    "        \n",
    "        # 将矩阵转换成ndarray, 并使用ravel进行扁平化处理\n",
    "        return np.array(result).ravel()"
   ]
  },
  {
   "cell_type": "code",
   "execution_count": 32,
   "metadata": {},
   "outputs": [],
   "source": [
    "# 构建数据集 - 不考虑截距的情况\n",
    "d = data.sample(len(data), random_state=0)\n",
    "\n",
    "# 取前400条数据作为训练集\n",
    "train_X = d.iloc[:400, :-1]  # 基于位置的纯整数索引\n",
    "train_y = d.iloc[:400, -1]\n",
    "\n",
    "# 取剩余条数的数据为测试集\n",
    "test_X = d.iloc[400:, :-1]\n",
    "test_y = d.iloc[400:, -1]"
   ]
  },
  {
   "cell_type": "code",
   "execution_count": 33,
   "metadata": {},
   "outputs": [
    {
     "data": {
      "text/plain": [
       "matrix([[-9.18342810e-02],\n",
       "        [ 4.39241264e-02],\n",
       "        [ 6.03666834e-03],\n",
       "        [ 2.41855561e+00],\n",
       "        [-3.33200936e+00],\n",
       "        [ 5.58715607e+00],\n",
       "        [-2.15854534e-03],\n",
       "        [-8.56861175e-01],\n",
       "        [ 2.27259981e-01],\n",
       "        [-1.18811255e-02],\n",
       "        [-2.52949647e-01],\n",
       "        [ 1.50099506e-02],\n",
       "        [-4.56877090e-01]])"
      ]
     },
     "metadata": {},
     "output_type": "display_data"
    }
   ],
   "source": [
    "# 训练模型\n",
    "lr = LinearRegression()\n",
    "lr.fit(train_X, train_y)\n",
    "\n",
    "# 查看各个特征的权重值\n",
    "display(lr._w)"
   ]
  },
  {
   "cell_type": "code",
   "execution_count": 39,
   "metadata": {
    "scrolled": true
   },
   "outputs": [
    {
     "data": {
      "text/plain": [
       "array([32.42261152, 31.86156126,  9.51330759, 12.48133747, 24.07611064,\n",
       "       35.60814742, 21.87646779, 21.84153557, 16.09224261, 28.4890082 ,\n",
       "       41.27931758, 26.01023288, 40.9023699 , 24.65369946, 22.23194989,\n",
       "       11.89275584, 14.53199976, 13.11832629, 21.07208434,  1.63473753,\n",
       "       26.2692255 , 25.86938312, 40.15456584, 19.12623535, 24.3262408 ,\n",
       "       35.13250993, 32.2589841 ,  8.89386625, 25.58850701, 43.81180397,\n",
       "       19.52765456, 20.54277923, 24.57246882, 18.66045343,  6.18777975,\n",
       "       20.39954995, 37.07675784, 17.10215026, 22.57044594, 14.31218642,\n",
       "       22.99379236, 21.06321632, 20.67443731, 21.46832527, 33.63767218,\n",
       "       22.37780827, 29.65090997, 34.74770006, 42.06223051, 17.38187885,\n",
       "       16.53307771, 36.47833571, 19.91068267, 10.55759635, 16.48359441,\n",
       "       23.49107944, 21.51026115, 18.98645669, 26.06769854, 11.42724381,\n",
       "        7.66610465, 21.89186167,  8.08036631, 25.81339215,  3.39812313,\n",
       "       27.0866603 , 32.58455701, 23.3843497 , 19.38854023, 18.08017172,\n",
       "       22.50153695, 30.28173415, 26.43651915, 21.56650138, 18.74693485,\n",
       "        8.19498949, 23.73044798, 23.79374532, 24.6027734 , 14.42072303,\n",
       "       21.51641853, 20.77571449,  8.24406914, 23.50765897, 16.80327737,\n",
       "       31.07916087, 30.6960685 , 25.97135882, 20.94222244, 30.60577063,\n",
       "       22.94524179, 25.10730096, 24.53238217, 31.7307272 , 23.36149549,\n",
       "       34.07516443, 15.56969493, 18.1346582 , 21.4837224 , 39.9965426 ,\n",
       "       26.01722701, 19.33728479, 32.14163038, 22.27593479, 17.85028557,\n",
       "       19.69489853])"
      ]
     },
     "execution_count": 39,
     "metadata": {},
     "output_type": "execute_result"
    }
   ],
   "source": [
    "# 使用训练好的模型进行预测\n",
    "predict_y = lr.predict(test_X)\n",
    "\n",
    "#查看预测结果\n",
    "predict_y"
   ]
  },
  {
   "attachments": {
    "image.png": {
     "image/png": "[encoded data removed]"
    }
   },
   "cell_type": "markdown",
   "metadata": {},
   "source": [
    "# 模型评估\n",
    "\n",
    "在回归任务（对连续值的预测）中，常见的评估指标（Metric）有：\n",
    "\n",
    "- 平均绝对误差 MAE: Mean Absolute Error\n",
    "- 均方误差 MSE: Mean Square Error\n",
    "- 均方根误差 RMSE: Root Mean Square Error\n",
    "- 平均绝对百分比误差 MAPE: Mean Absolute Percentage Error\n",
    "\n",
    "常用的有MAE和MSE\n",
    "\n",
    "## 平均绝对误差 MAE\n",
    "MAE用来衡量预测值和真实值之间的平均绝对误差，MAE越小表示模型越好\n",
    "![image.png](attachment:image.png)"
   ]
  },
  {
   "cell_type": "code",
   "execution_count": 42,
   "metadata": {
    "scrolled": true
   },
   "outputs": [
    {
     "name": "stdout",
     "output_type": "stream",
     "text": [
      "模型评估\n",
      "\n",
      "平均绝对误差MAE:  3.1895604553296986\n"
     ]
    }
   ],
   "source": [
    "print('模型评估\\n')\n",
    "print('平均绝对误差MAE: ', np.mean(np.abs(test_y - predict_y)))"
   ]
  },
  {
   "cell_type": "code",
   "execution_count": null,
   "metadata": {},
   "outputs": [],
   "source": []
  },
  {
   "cell_type": "code",
   "execution_count": null,
   "metadata": {},
   "outputs": [],
   "source": []
  },
  {
   "cell_type": "code",
   "execution_count": null,
   "metadata": {},
   "outputs": [],
   "source": []
  },
  {
   "cell_type": "code",
   "execution_count": null,
   "metadata": {},
   "outputs": [],
   "source": []
  },
  {
   "cell_type": "code",
   "execution_count": null,
   "metadata": {},
   "outputs": [],
   "source": []
  },
  {
   "cell_type": "code",
   "execution_count": null,
   "metadata": {},
   "outputs": [],
   "source": []
  },
  {
   "cell_type": "code",
   "execution_count": null,
   "metadata": {},
   "outputs": [],
   "source": []
  },
  {
   "cell_type": "code",
   "execution_count": null,
   "metadata": {},
   "outputs": [],
   "source": []
  },
  {
   "cell_type": "code",
   "execution_count": null,
   "metadata": {},
   "outputs": [],
   "source": []
  },
  {
   "cell_type": "code",
   "execution_count": null,
   "metadata": {},
   "outputs": [],
   "source": []
  },
  {
   "cell_type": "code",
   "execution_count": null,
   "metadata": {},
   "outputs": [],
   "source": []
  }
 ],
 "metadata": {
  "kernelspec": {
   "display_name": "Python 3",
   "language": "python",
   "name": "python3"
  },
  "language_info": {
   "codemirror_mode": {
    "name": "ipython",
    "version": 3
   },
   "file_extension": ".py",
   "mimetype": "text/x-python",
   "name": "python",
   "nbconvert_exporter": "python",
   "pygments_lexer": "ipython3",
   "version": "3.8.5"
  }
 },
 "nbformat": 4,
 "nbformat_minor": 4
}
