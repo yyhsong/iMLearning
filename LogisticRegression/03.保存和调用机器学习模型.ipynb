{
 "cells": [
  {
   "cell_type": "markdown",
   "metadata": {},
   "source": [
    "## 用逻辑回归算法训练模型"
   ]
  },
  {
   "cell_type": "code",
   "execution_count": 1,
   "metadata": {},
   "outputs": [],
   "source": [
    "from sklearn.linear_model import LogisticRegression\n",
    "from sklearn.datasets import load_iris\n",
    "from sklearn.model_selection import train_test_split"
   ]
  },
  {
   "cell_type": "code",
   "execution_count": 2,
   "metadata": {},
   "outputs": [],
   "source": [
    "# 构建训练集和测试集\n",
    "data = load_iris()\n",
    "train_X, test_X, train_y, test_y = train_test_split(data.data, data.target, test_size=0.2, random_state=4)"
   ]
  },
  {
   "cell_type": "code",
   "execution_count": 4,
   "metadata": {},
   "outputs": [
    {
     "data": {
      "text/plain": [
       "LogisticRegression(C=0.1, max_iter=1000, n_jobs=3)"
      ]
     },
     "execution_count": 4,
     "metadata": {},
     "output_type": "execute_result"
    }
   ],
   "source": [
    "# 训练模型\n",
    "model = LogisticRegression(C=0.1,\n",
    "                          max_iter=1000,\n",
    "                          fit_intercept=True,\n",
    "                          n_jobs=3)\n",
    "model.fit(train_X, train_y)"
   ]
  },
  {
   "cell_type": "markdown",
   "metadata": {},
   "source": [
    "## Pickle Module\n",
    "\n",
    "- pickle可以序列号对象并保存到磁盘中，并在需要的时候读取出来，任何对象都可以执行序列号操作，因此可以将训练好的模型对象序列化并存储到本地。\n",
    "- cPickle是用C编码的pickle模块，性能更好，推荐在大多数场景中使用。"
   ]
  },
  {
   "cell_type": "code",
   "execution_count": 10,
   "metadata": {},
   "outputs": [],
   "source": [
    "import pickle\n",
    "\n",
    "# 序列化并保存模型\n",
    "with open(r'models/pickle_model.pkl', 'wb') as file:\n",
    "    pickle.dump(model, file)"
   ]
  },
  {
   "cell_type": "code",
   "execution_count": 15,
   "metadata": {
    "scrolled": true
   },
   "outputs": [
    {
     "name": "stdout",
     "output_type": "stream",
     "text": [
      "Test score: 96.67%\n"
     ]
    },
    {
     "data": {
      "text/plain": [
       "array([2, 0, 2, 2, 2, 1, 2, 0, 0, 2, 0, 0, 0, 1, 2, 0, 1, 0, 0, 2, 0, 2,\n",
       "       1, 0, 0, 0, 0, 0, 0, 2])"
      ]
     },
     "execution_count": 15,
     "metadata": {},
     "output_type": "execute_result"
    }
   ],
   "source": [
    "# 加载并调用模型\n",
    "with open(r'models/pickle_model.pkl', 'rb') as file:\n",
    "    pkl_model = pickle.load(file)\n",
    "    \n",
    "# 模型评分\n",
    "score = pkl_model.score(test_X, test_y)\n",
    "print('Test score: {0:.2f}%'.format(100 * score))\n",
    "\n",
    "# 模型预测\n",
    "predict_y = pkl_model.predict(test_X)\n",
    "predict_y"
   ]
  },
  {
   "cell_type": "markdown",
   "metadata": {},
   "source": [
    "## Joblib Module\n",
    "\n",
    "- joblib是sklearn自带的一个工具，用于模型的持久化存储，做好很多优化。\n",
    "- 在多少场景下，joblib的性能要优于pickle，尤其是当数据量较大的情况更加明显。"
   ]
  },
  {
   "cell_type": "code",
   "execution_count": 17,
   "metadata": {},
   "outputs": [
    {
     "data": {
      "text/plain": [
       "['models/joblib_model.pkl']"
      ]
     },
     "execution_count": 17,
     "metadata": {},
     "output_type": "execute_result"
    }
   ],
   "source": [
    "import joblib\n",
    "\n",
    "# 持久化存储模型\n",
    "joblib.dump(model, r'models/joblib_model.pkl')"
   ]
  },
  {
   "cell_type": "code",
   "execution_count": 18,
   "metadata": {},
   "outputs": [
    {
     "name": "stdout",
     "output_type": "stream",
     "text": [
      "Test score: 96.67%\n"
     ]
    },
    {
     "data": {
      "text/plain": [
       "array([2, 0, 2, 2, 2, 1, 2, 0, 0, 2, 0, 0, 0, 1, 2, 0, 1, 0, 0, 2, 0, 2,\n",
       "       1, 0, 0, 0, 0, 0, 0, 2])"
      ]
     },
     "execution_count": 18,
     "metadata": {},
     "output_type": "execute_result"
    }
   ],
   "source": [
    "# 加载模型\n",
    "job_model = joblib.load(r'models/joblib_model.pkl')\n",
    "\n",
    "# 模型评分\n",
    "score = job_model.score(test_X, test_y)\n",
    "print('Test score: {0:.2f}%'.format(100 * score))\n",
    "\n",
    "# 模型预测\n",
    "predict_y = job_model.predict(test_X)\n",
    "predict_y"
   ]
  }
 ],
 "metadata": {
  "kernelspec": {
   "display_name": "Python 3",
   "language": "python",
   "name": "python3"
  },
  "language_info": {
   "codemirror_mode": {
    "name": "ipython",
    "version": 3
   },
   "file_extension": ".py",
   "mimetype": "text/x-python",
   "name": "python",
   "nbconvert_exporter": "python",
   "pygments_lexer": "ipython3",
   "version": "3.8.5"
  }
 },
 "nbformat": 4,
 "nbformat_minor": 4
}
