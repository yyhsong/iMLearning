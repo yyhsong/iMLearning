{
 "cells": [
  {
   "cell_type": "code",
   "execution_count": 1,
   "metadata": {},
   "outputs": [],
   "source": [
    "import numpy as np\n",
    "import pandas as pd"
   ]
  },
  {
   "cell_type": "markdown",
   "metadata": {},
   "source": [
    "## 数据勘查及预处理\n",
    "\n",
    "鸢尾花数据集说明\n",
    "- SepalLengthCm  花萼长度\n",
    "- SepalWidthCm  花萼宽度\n",
    "- PetalLengthCm  花瓣长度\n",
    "- PetalWidthCm  花瓣宽度\n",
    "- Species     鸢尾花品种"
   ]
  },
  {
   "cell_type": "code",
   "execution_count": 2,
   "metadata": {},
   "outputs": [
    {
     "name": "stdout",
     "output_type": "stream",
     "text": [
      "<class 'pandas.core.frame.DataFrame'>\n",
      "RangeIndex: 150 entries, 0 to 149\n",
      "Data columns (total 6 columns):\n",
      " #   Column         Non-Null Count  Dtype  \n",
      "---  ------         --------------  -----  \n",
      " 0   Id             150 non-null    int64  \n",
      " 1   SepalLengthCm  150 non-null    float64\n",
      " 2   SepalWidthCm   150 non-null    float64\n",
      " 3   PetalLengthCm  150 non-null    float64\n",
      " 4   PetalWidthCm   150 non-null    float64\n",
      " 5   Species        150 non-null    object \n",
      "dtypes: float64(4), int64(1), object(1)\n",
      "memory usage: 7.2+ KB\n"
     ]
    }
   ],
   "source": [
    "# 读取数据 - 鸢尾花数据集\n",
    "data = pd.read_csv(r'../Datasets/iris.csv')\n",
    "\n",
    "# 数据基本信息\n",
    "data.info()"
   ]
  },
  {
   "cell_type": "code",
   "execution_count": 3,
   "metadata": {},
   "outputs": [
    {
     "data": {
      "text/html": [
       "<div>\n",
       "<style scoped>\n",
       "    .dataframe tbody tr th:only-of-type {\n",
       "        vertical-align: middle;\n",
       "    }\n",
       "\n",
       "    .dataframe tbody tr th {\n",
       "        vertical-align: top;\n",
       "    }\n",
       "\n",
       "    .dataframe thead th {\n",
       "        text-align: right;\n",
       "    }\n",
       "</style>\n",
       "<table border=\"1\" class=\"dataframe\">\n",
       "  <thead>\n",
       "    <tr style=\"text-align: right;\">\n",
       "      <th></th>\n",
       "      <th>Id</th>\n",
       "      <th>SepalLengthCm</th>\n",
       "      <th>SepalWidthCm</th>\n",
       "      <th>PetalLengthCm</th>\n",
       "      <th>PetalWidthCm</th>\n",
       "      <th>Species</th>\n",
       "    </tr>\n",
       "  </thead>\n",
       "  <tbody>\n",
       "    <tr>\n",
       "      <th>3</th>\n",
       "      <td>4</td>\n",
       "      <td>4.6</td>\n",
       "      <td>3.1</td>\n",
       "      <td>1.5</td>\n",
       "      <td>0.2</td>\n",
       "      <td>Iris-setosa</td>\n",
       "    </tr>\n",
       "    <tr>\n",
       "      <th>85</th>\n",
       "      <td>86</td>\n",
       "      <td>6.0</td>\n",
       "      <td>3.4</td>\n",
       "      <td>4.5</td>\n",
       "      <td>1.6</td>\n",
       "      <td>Iris-versicolor</td>\n",
       "    </tr>\n",
       "    <tr>\n",
       "      <th>106</th>\n",
       "      <td>107</td>\n",
       "      <td>4.9</td>\n",
       "      <td>2.5</td>\n",
       "      <td>4.5</td>\n",
       "      <td>1.7</td>\n",
       "      <td>Iris-virginica</td>\n",
       "    </tr>\n",
       "    <tr>\n",
       "      <th>144</th>\n",
       "      <td>145</td>\n",
       "      <td>6.7</td>\n",
       "      <td>3.3</td>\n",
       "      <td>5.7</td>\n",
       "      <td>2.5</td>\n",
       "      <td>Iris-virginica</td>\n",
       "    </tr>\n",
       "    <tr>\n",
       "      <th>8</th>\n",
       "      <td>9</td>\n",
       "      <td>4.4</td>\n",
       "      <td>2.9</td>\n",
       "      <td>1.4</td>\n",
       "      <td>0.2</td>\n",
       "      <td>Iris-setosa</td>\n",
       "    </tr>\n",
       "  </tbody>\n",
       "</table>\n",
       "</div>"
      ],
      "text/plain": [
       "      Id  SepalLengthCm  SepalWidthCm  PetalLengthCm  PetalWidthCm  \\\n",
       "3      4            4.6           3.1            1.5           0.2   \n",
       "85    86            6.0           3.4            4.5           1.6   \n",
       "106  107            4.9           2.5            4.5           1.7   \n",
       "144  145            6.7           3.3            5.7           2.5   \n",
       "8      9            4.4           2.9            1.4           0.2   \n",
       "\n",
       "             Species  \n",
       "3        Iris-setosa  \n",
       "85   Iris-versicolor  \n",
       "106   Iris-virginica  \n",
       "144   Iris-virginica  \n",
       "8        Iris-setosa  "
      ]
     },
     "execution_count": 3,
     "metadata": {},
     "output_type": "execute_result"
    }
   ],
   "source": [
    "# 查看全部数据\n",
    "data.sample(5)"
   ]
  },
  {
   "cell_type": "code",
   "execution_count": 4,
   "metadata": {},
   "outputs": [],
   "source": [
    "# 删除不需要的Id列\n",
    "data.drop('Id', axis=1, inplace=True)\n",
    "\n",
    "# 查看是否有重复记录\n",
    "data.duplicated().any()\n",
    "\n",
    "# 删除重复记录\n",
    "data.drop_duplicates(inplace=True)"
   ]
  },
  {
   "cell_type": "code",
   "execution_count": 5,
   "metadata": {},
   "outputs": [
    {
     "data": {
      "text/plain": [
       "98"
      ]
     },
     "execution_count": 5,
     "metadata": {},
     "output_type": "execute_result"
    }
   ],
   "source": [
    "# 把类别转换为int型\n",
    "data['Species'] = data['Species'].map({'Iris-versicolor':0, 'Iris-setosa':1, 'Iris-virginica':2})\n",
    "\n",
    "# 选取类别为0和1的鸢尾花数据，进行二分类\n",
    "data = data[data['Species'] != 2]\n",
    "\n",
    "len(data)"
   ]
  },
  {
   "cell_type": "markdown",
   "metadata": {},
   "source": [
    "## 算法实现"
   ]
  },
  {
   "cell_type": "code",
   "execution_count": 10,
   "metadata": {},
   "outputs": [],
   "source": [
    "class LogisticRegression:\n",
    "    \n",
    "    \"\"\"初始化\n",
    "    \n",
    "    参数：\n",
    "        alpha: float 学习率\n",
    "        times: int 迭代次数\n",
    "    \"\"\"\n",
    "    def __init__(self, alpha, times):\n",
    "        self.alpha = alpha\n",
    "        self.times = times\n",
    "    \n",
    "    \n",
    "    \"\"\"逻辑函数的实现\n",
    "    \n",
    "    参数：\n",
    "        z: float 自变量，值为 z = w.T * x\n",
    "    \n",
    "    返回值：\n",
    "        p: float 值在[0, 1]之间\n",
    "        返回样本属于类别1的概率值\n",
    "        当p >= 0.5(z >= 0)时，判定为类别1， 否则为类别0\n",
    "    \"\"\"\n",
    "    def sigmoid(self, z):\n",
    "        return 1.0 / (1.0 + np.exp(-z))\n",
    "    \n",
    "    \n",
    "    \"\"\"训练\n",
    "    \n",
    "    参数：\n",
    "        X: 待训练的样本数据，类数组类型，形状为[样本数量，特征数量]\n",
    "        y: 每个样本的目标值（标签），类数组类型，形状为[样本数量]\n",
    "    \"\"\"\n",
    "    def fit(self, X, y):\n",
    "        X = np.asarray(X)\n",
    "        y = np.asarray(y)\n",
    "        \n",
    "        # 创建权重的向量，初始值为0，长度比特征值+1 (截距)\n",
    "        self.w_ = np.zeros(X.shape[1] + 1)\n",
    "        \n",
    "        # 创建损失列表，保存每次迭代后的损失值\n",
    "        self.loss_ = []\n",
    "        \n",
    "        # 迭代\n",
    "        for i in range(self.times):\n",
    "            z = np.dot(X, self.w_[1:]) + self.w_[0]\n",
    "            \n",
    "            # 计算结果判定为1的概率值\n",
    "            p = self.sigmoid(z)\n",
    "            \n",
    "            # 根据逻辑回归的代价函数（目标函数），计算损失值\n",
    "            # J(w) = -sum(yi * log(s(zi)) + (1 - yi) * log(1 - s(zi))) [i从1到n，n为样本的数量]\n",
    "            cost = -np.sum(y * np.log(p) + (1 -y) * np.log(1 - p))\n",
    "            self.loss_.append(cost)\n",
    "            \n",
    "            # 根据公式调整权重值：权重（j列） = 权重（j列） + 学习率 * sum((y - s(z)) * x(j))\n",
    "            self.w_[0] += self.alpha * np.sum(y - p)\n",
    "            self.w_[1:] += self.alpha * np.dot(X.T, y - p)\n",
    "            \n",
    "            \n",
    "    \"\"\"预测概率\n",
    "    \n",
    "    参数：\n",
    "        X: 待测试的样本数据，类数组类型，形状[样本数量，特征数量]\n",
    "        \n",
    "    返回值：\n",
    "        result: 预测的结果（概率值），数组类型\n",
    "    \"\"\"\n",
    "    def predict_proba(self, X):\n",
    "        X = np.asarray(X)\n",
    "        z = np.dot(X, self.w_[1:]) + self.w_[0]\n",
    "        p = self.sigmoid(z)\n",
    "        \n",
    "        # 将预测结果转换为二维数组，便于后续的拼接\n",
    "        p = p.reshape(-1, 1)\n",
    "        \n",
    "        # 将两个数组进行横向拼接\n",
    "        return np.concatenate([1-p, p], axis=1)\n",
    "            \n",
    "            \n",
    "    \"\"\"预测分类\n",
    "    \n",
    "    参数：\n",
    "        X: 待测试的样本数据，类数组类型，形状[样本数量，特征数量]\n",
    "        \n",
    "    返回值：\n",
    "        result: 预测的结果（分类值）,数组类型\n",
    "    \"\"\"\n",
    "    def predict(self, X):\n",
    "        return np.argmax(self.predict_proba(X), axis=1)"
   ]
  },
  {
   "cell_type": "code",
   "execution_count": 16,
   "metadata": {},
   "outputs": [],
   "source": [
    "# 构建数据集\n",
    "d1 = data[data['Species'] == 0]\n",
    "d2 = data[data['Species'] == 1]\n",
    "d1 = d1.sample(len(d1), random_state=0)\n",
    "d2 = d2.sample(len(d2), random_state=0)\n",
    "\n",
    "# 训练集\n",
    "train_X = pd.concat([d1.iloc[:40, :-1], d2.iloc[:40, :-1]], axis=0)\n",
    "train_y = pd.concat([d1.iloc[:40, -1], d2.iloc[:40, -1]], axis=0)\n",
    "\n",
    "# 测试集\n",
    "test_X = pd.concat([d1.iloc[40:, :-1], d2.iloc[40:, :-1]], axis=0)\n",
    "test_y = pd.concat([d1.iloc[40:, -1], d2.iloc[40:, -1]], axis=0)"
   ]
  },
  {
   "cell_type": "code",
   "execution_count": 18,
   "metadata": {
    "scrolled": true
   },
   "outputs": [
    {
     "data": {
      "text/plain": [
       "1.0"
      ]
     },
     "execution_count": 18,
     "metadata": {},
     "output_type": "execute_result"
    }
   ],
   "source": [
    "# 鸢尾花的特征列在同一个数量级，因此不需要进行标准化处理\n",
    "lr = LogisticRegression(alpha=0.01, times=30)\n",
    "lr.fit(train_X, train_y)\n",
    "\n",
    "# 预测概率值\n",
    "# lr.predict_proba(test_X)\n",
    "\n",
    "# 预测分类值\n",
    "result = lr.predict(test_X)\n",
    "\n",
    "# 计算预测的准确率\n",
    "np.sum((result == test_y) / len(test_y))"
   ]
  },
  {
   "cell_type": "markdown",
   "metadata": {},
   "source": [
    "## 数据可视化"
   ]
  },
  {
   "cell_type": "code",
   "execution_count": 19,
   "metadata": {},
   "outputs": [],
   "source": [
    "import matplotlib as mpl\n",
    "import matplotlib.pyplot as plt\n",
    "mpl.rcParams['font.family'] = 'SimHei'\n",
    "mpl.rcParams['axes.unicode_minus'] = False"
   ]
  },
  {
   "cell_type": "code",
   "execution_count": 20,
   "metadata": {},
   "outputs": [
    {
     "data": {
      "image/png": "[encoded data removed]",
      "text/plain": [
       "<Figure size 432x288 with 1 Axes>"
      ]
     },
     "metadata": {
      "needs_background": "light"
     },
     "output_type": "display_data"
    }
   ],
   "source": [
    "# 绘制预测值\n",
    "plt.plot(result, 'ro', ms=10, label='预测值')\n",
    "\n",
    "# 绘制真实值\n",
    "plt.plot(test_y.values, 'go', label='真实值')\n",
    "\n",
    "plt.title('逻辑回归二分类')\n",
    "plt.xlabel('样本序号')\n",
    "plt.ylabel('样本分类')\n",
    "plt.legend()\n",
    "plt.show()"
   ]
  },
  {
   "cell_type": "code",
   "execution_count": 21,
   "metadata": {},
   "outputs": [
    {
     "data": {
      "text/plain": [
       "[<matplotlib.lines.Line2D at 0x16db8985250>]"
      ]
     },
     "execution_count": 21,
     "metadata": {},
     "output_type": "execute_result"
    },
    {
     "data": {
      "image/png": "[encoded data removed]",
      "text/plain": [
       "<Figure size 432x288 with 1 Axes>"
      ]
     },
     "metadata": {
      "needs_background": "light"
     },
     "output_type": "display_data"
    }
   ],
   "source": [
    "# 绘制目标函数的损失值\n",
    "plt.plot(range(1, lr.times + 1), lr.loss_, 'bo-')"
   ]
  }
 ],
 "metadata": {
  "kernelspec": {
   "display_name": "Python 3",
   "language": "python",
   "name": "python3"
  },
  "language_info": {
   "codemirror_mode": {
    "name": "ipython",
    "version": 3
   },
   "file_extension": ".py",
   "mimetype": "text/x-python",
   "name": "python",
   "nbconvert_exporter": "python",
   "pygments_lexer": "ipython3",
   "version": "3.8.5"
  }
 },
 "nbformat": 4,
 "nbformat_minor": 4
}
