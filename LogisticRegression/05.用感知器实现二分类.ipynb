{
 "cells": [
  {
   "cell_type": "code",
   "execution_count": 1,
   "metadata": {},
   "outputs": [],
   "source": [
    "# 导入需要的库\n",
    "import numpy as np\n",
    "import pandas as pd"
   ]
  },
  {
   "cell_type": "markdown",
   "metadata": {},
   "source": [
    "## 数据勘查及预处理\n",
    "\n",
    "鸢尾花数据集说明\n",
    "- SepalLengthCm  花萼长度\n",
    "- SepalWidthCm  花萼宽度\n",
    "- PetalLengthCm  花瓣长度\n",
    "- PetalWidthCm  花瓣宽度\n",
    "- Species     鸢尾花品种"
   ]
  },
  {
   "cell_type": "code",
   "execution_count": 2,
   "metadata": {},
   "outputs": [
    {
     "name": "stdout",
     "output_type": "stream",
     "text": [
      "<class 'pandas.core.frame.DataFrame'>\n",
      "RangeIndex: 150 entries, 0 to 149\n",
      "Data columns (total 6 columns):\n",
      " #   Column         Non-Null Count  Dtype  \n",
      "---  ------         --------------  -----  \n",
      " 0   Id             150 non-null    int64  \n",
      " 1   SepalLengthCm  150 non-null    float64\n",
      " 2   SepalWidthCm   150 non-null    float64\n",
      " 3   PetalLengthCm  150 non-null    float64\n",
      " 4   PetalWidthCm   150 non-null    float64\n",
      " 5   Species        150 non-null    object \n",
      "dtypes: float64(4), int64(1), object(1)\n",
      "memory usage: 7.2+ KB\n"
     ]
    }
   ],
   "source": [
    "# 读取数据 - 鸢尾花数据集\n",
    "data = pd.read_csv(r'../Datasets/iris.csv')\n",
    "\n",
    "# 数据基本信息\n",
    "data.info()"
   ]
  },
  {
   "cell_type": "code",
   "execution_count": 3,
   "metadata": {},
   "outputs": [
    {
     "data": {
      "text/html": [
       "<div>\n",
       "<style scoped>\n",
       "    .dataframe tbody tr th:only-of-type {\n",
       "        vertical-align: middle;\n",
       "    }\n",
       "\n",
       "    .dataframe tbody tr th {\n",
       "        vertical-align: top;\n",
       "    }\n",
       "\n",
       "    .dataframe thead th {\n",
       "        text-align: right;\n",
       "    }\n",
       "</style>\n",
       "<table border=\"1\" class=\"dataframe\">\n",
       "  <thead>\n",
       "    <tr style=\"text-align: right;\">\n",
       "      <th></th>\n",
       "      <th>Id</th>\n",
       "      <th>SepalLengthCm</th>\n",
       "      <th>SepalWidthCm</th>\n",
       "      <th>PetalLengthCm</th>\n",
       "      <th>PetalWidthCm</th>\n",
       "      <th>Species</th>\n",
       "    </tr>\n",
       "  </thead>\n",
       "  <tbody>\n",
       "    <tr>\n",
       "      <th>125</th>\n",
       "      <td>126</td>\n",
       "      <td>7.2</td>\n",
       "      <td>3.2</td>\n",
       "      <td>6.0</td>\n",
       "      <td>1.8</td>\n",
       "      <td>Iris-virginica</td>\n",
       "    </tr>\n",
       "    <tr>\n",
       "      <th>15</th>\n",
       "      <td>16</td>\n",
       "      <td>5.7</td>\n",
       "      <td>4.4</td>\n",
       "      <td>1.5</td>\n",
       "      <td>0.4</td>\n",
       "      <td>Iris-setosa</td>\n",
       "    </tr>\n",
       "    <tr>\n",
       "      <th>128</th>\n",
       "      <td>129</td>\n",
       "      <td>6.4</td>\n",
       "      <td>2.8</td>\n",
       "      <td>5.6</td>\n",
       "      <td>2.1</td>\n",
       "      <td>Iris-virginica</td>\n",
       "    </tr>\n",
       "    <tr>\n",
       "      <th>52</th>\n",
       "      <td>53</td>\n",
       "      <td>6.9</td>\n",
       "      <td>3.1</td>\n",
       "      <td>4.9</td>\n",
       "      <td>1.5</td>\n",
       "      <td>Iris-versicolor</td>\n",
       "    </tr>\n",
       "    <tr>\n",
       "      <th>24</th>\n",
       "      <td>25</td>\n",
       "      <td>4.8</td>\n",
       "      <td>3.4</td>\n",
       "      <td>1.9</td>\n",
       "      <td>0.2</td>\n",
       "      <td>Iris-setosa</td>\n",
       "    </tr>\n",
       "  </tbody>\n",
       "</table>\n",
       "</div>"
      ],
      "text/plain": [
       "      Id  SepalLengthCm  SepalWidthCm  PetalLengthCm  PetalWidthCm  \\\n",
       "125  126            7.2           3.2            6.0           1.8   \n",
       "15    16            5.7           4.4            1.5           0.4   \n",
       "128  129            6.4           2.8            5.6           2.1   \n",
       "52    53            6.9           3.1            4.9           1.5   \n",
       "24    25            4.8           3.4            1.9           0.2   \n",
       "\n",
       "             Species  \n",
       "125   Iris-virginica  \n",
       "15       Iris-setosa  \n",
       "128   Iris-virginica  \n",
       "52   Iris-versicolor  \n",
       "24       Iris-setosa  "
      ]
     },
     "execution_count": 3,
     "metadata": {},
     "output_type": "execute_result"
    }
   ],
   "source": [
    "# 查看全部数据\n",
    "data.sample(5)"
   ]
  },
  {
   "cell_type": "code",
   "execution_count": 4,
   "metadata": {},
   "outputs": [],
   "source": [
    "# 删除不需要的Id列\n",
    "data.drop('Id', axis=1, inplace=True)\n",
    "\n",
    "# 查看是否有重复记录\n",
    "data.duplicated().any()\n",
    "\n",
    "# 删除重复记录\n",
    "data.drop_duplicates(inplace=True)"
   ]
  },
  {
   "cell_type": "code",
   "execution_count": 5,
   "metadata": {},
   "outputs": [
    {
     "data": {
      "text/plain": [
       "97"
      ]
     },
     "execution_count": 5,
     "metadata": {},
     "output_type": "execute_result"
    }
   ],
   "source": [
    "# 把类别转换为int型\n",
    "# 感知器的预测结果为1和-1\n",
    "data['Species'] = data['Species'].map({'Iris-versicolor':0, 'Iris-virginica':1, 'Iris-setosa':-1})\n",
    "\n",
    "# 选取类别为1和-1的鸢尾花数据，进行二分类\n",
    "data = data[data['Species'] != 0]\n",
    "\n",
    "len(data)"
   ]
  },
  {
   "cell_type": "markdown",
   "metadata": {},
   "source": [
    "## 算法实现"
   ]
  },
  {
   "cell_type": "code",
   "execution_count": 15,
   "metadata": {},
   "outputs": [],
   "source": [
    "# 实现感知器算法，进行二分类\n",
    "class Perceptron:\n",
    "    \n",
    "    \"\"\"初始化\n",
    "    \n",
    "    参数：\n",
    "        alpha: float 学习率\n",
    "        times: int 迭代次数\n",
    "    \"\"\"\n",
    "    def __init__(self, alpha, times):\n",
    "        self.alpha = alpha\n",
    "        self.times = times\n",
    "    \n",
    "    \n",
    "    \"\"\"阶跃函数\n",
    "    \n",
    "    参数：\n",
    "        z: 数组类型（或者标量类型）\n",
    "        根据z的值，返回1或-1，从而实现二分类\n",
    "    \n",
    "    返回值：\n",
    "        int类型\n",
    "        如果z>=0，返回1，否则返回-1\n",
    "    \"\"\"\n",
    "    def step(self, z):\n",
    "        return np.where(z>=0, 1, -1)\n",
    "        # return 1 if z>=0 else -1\n",
    "    \n",
    "    \n",
    "    \"\"\"训练\n",
    "    \n",
    "    参数：\n",
    "        X: 待训练的样本数据，类数组类型，形状为[样本数量，特征数量]\n",
    "        y: 每个样本的目标值（标签），类数组类型，形状为[样本数量]\n",
    "    \"\"\"\n",
    "    def fit(self, X, y):\n",
    "        X = np.asarray(X)\n",
    "        y = np.asarray(y)\n",
    "        \n",
    "        # 创建权重的向量，初始值为0，长度比特征值+1 (截距)\n",
    "        self.w_ = np.zeros(X.shape[1] + 1)\n",
    "        \n",
    "        # 创建损失列表，保存每次迭代后的损失值\n",
    "        self.loss_ = []\n",
    "        \n",
    "        # 按指定循环次数进行迭代\n",
    "        for i in range(self.times):\n",
    "            # 逻辑回归是使用所有样本计算梯度，然后更新权重\n",
    "            # 感知器是使用单个样本依次计算梯度，然后更新权重\n",
    "            loss = 0\n",
    "            \n",
    "            for x, target in zip(X, y):\n",
    "                # 计算预测值\n",
    "                y_pre = self.step(np.dot(x, self.w_[1:]) + self.w_[0])\n",
    "                # 计算损失值\n",
    "                loss += y_pre != target\n",
    "                \n",
    "                # 更新权重：w(j) = w(j) + 学习率 * (真实值 - 预测值) * x(j)\n",
    "                self.w_[0] += self.alpha * (target - y_pre)\n",
    "                self.w_[1:] += self.alpha * (target - y_pre) * x\n",
    "                \n",
    "            # 将循环中累计的损失值增加到损失列表中\n",
    "            self.loss_.append(loss)\n",
    "            \n",
    "            \n",
    "    \"\"\"预测概率\n",
    "    \n",
    "    参数：\n",
    "        X: 待测试的样本数据，类数组类型，形状[样本数量，特征数量]\n",
    "        \n",
    "    返回值：\n",
    "        result: 预测的结果（概率值），数组类型\n",
    "    \"\"\"\n",
    "    def predict_proba(self, X):\n",
    "        X = np.asarray(X)\n",
    "        z = np.dot(X, self.w_[1:]) + self.w_[0]\n",
    "        p = self.sigmoid(z)\n",
    "        \n",
    "        # 将预测结果转换为二维数组，便于后续的拼接\n",
    "        p = p.reshape(-1, 1)\n",
    "        \n",
    "        # 将两个数组进行横向拼接\n",
    "        return np.concatenate([1-p, p], axis=1)\n",
    "            \n",
    "            \n",
    "    \"\"\"预测分类\n",
    "    \n",
    "    参数：\n",
    "        X: 待测试的样本数据，类数组类型，形状[样本数量，特征数量]\n",
    "        \n",
    "    返回值：\n",
    "        result: 预测的结果（分类值）,数组类型\n",
    "    \"\"\"\n",
    "    def predict(self, X):\n",
    "        return self.step(np.dot(X, self.w_[1:]) + self.w_[0])"
   ]
  },
  {
   "cell_type": "code",
   "execution_count": 16,
   "metadata": {},
   "outputs": [],
   "source": [
    "# 构建数据集\n",
    "d1 = data[data['Species'] == 1]\n",
    "d2 = data[data['Species'] == -1]\n",
    "d1 = d1.sample(len(d1), random_state=0)\n",
    "d2 = d2.sample(len(d2), random_state=0)\n",
    "\n",
    "# 训练集\n",
    "train_X = pd.concat([d1.iloc[:40, :-1], d2.iloc[:40, :-1]], axis=0)\n",
    "train_y = pd.concat([d1.iloc[:40, -1], d2.iloc[:40, -1]], axis=0)\n",
    "\n",
    "# 测试集\n",
    "test_X = pd.concat([d1.iloc[40:, :-1], d2.iloc[40:, :-1]], axis=0)\n",
    "test_y = pd.concat([d1.iloc[40:, -1], d2.iloc[40:, -1]], axis=0)"
   ]
  },
  {
   "cell_type": "code",
   "execution_count": 17,
   "metadata": {
    "scrolled": true
   },
   "outputs": [
    {
     "name": "stdout",
     "output_type": "stream",
     "text": [
      "预测值：\n"
     ]
    },
    {
     "data": {
      "text/plain": [
       "array([ 1,  1,  1,  1,  1,  1,  1,  1,  1, -1, -1, -1, -1, -1, -1, -1, -1])"
      ]
     },
     "metadata": {},
     "output_type": "display_data"
    },
    {
     "name": "stdout",
     "output_type": "stream",
     "text": [
      "真实值：\n"
     ]
    },
    {
     "data": {
      "text/plain": [
       "array([ 1,  1,  1,  1,  1,  1,  1,  1,  1, -1, -1, -1, -1, -1, -1, -1, -1],\n",
       "      dtype=int64)"
      ]
     },
     "metadata": {},
     "output_type": "display_data"
    },
    {
     "name": "stdout",
     "output_type": "stream",
     "text": [
      "权重值：\n"
     ]
    },
    {
     "data": {
      "text/plain": [
       "array([-0.4 , -0.44, -1.44,  1.88,  0.72])"
      ]
     },
     "metadata": {},
     "output_type": "display_data"
    },
    {
     "name": "stdout",
     "output_type": "stream",
     "text": [
      "损失值：\n"
     ]
    },
    {
     "data": {
      "text/plain": [
       "[1, 2, 3, 2, 0, 0, 0, 0, 0, 0]"
      ]
     },
     "metadata": {},
     "output_type": "display_data"
    }
   ],
   "source": [
    "# 鸢尾花的特征列在同一个数量级，因此不需要进行标准化处理\n",
    "p = Perceptron(alpha=0.1, times=10)\n",
    "p.fit(train_X, train_y)\n",
    "result = p.predict(test_X)\n",
    "\n",
    "print('预测值：')\n",
    "display(result)\n",
    "\n",
    "print('真实值：')\n",
    "display(test_y.values)\n",
    "\n",
    "print('权重值：')\n",
    "display(p.w_)\n",
    "\n",
    "print('损失值：')\n",
    "display(p.loss_)"
   ]
  },
  {
   "cell_type": "markdown",
   "metadata": {},
   "source": [
    "## 数据可视化"
   ]
  },
  {
   "cell_type": "code",
   "execution_count": 19,
   "metadata": {},
   "outputs": [],
   "source": [
    "import matplotlib as mpl\n",
    "import matplotlib.pyplot as plt\n",
    "mpl.rcParams['font.family'] = 'SimHei'\n",
    "mpl.rcParams['axes.unicode_minus'] = False"
   ]
  },
  {
   "cell_type": "code",
   "execution_count": 20,
   "metadata": {},
   "outputs": [
    {
     "data": {
      "image/png": "[encoded data removed]",
      "text/plain": [
       "<Figure size 432x288 with 1 Axes>"
      ]
     },
     "metadata": {
      "needs_background": "light"
     },
     "output_type": "display_data"
    }
   ],
   "source": [
    "# 绘制预测值\n",
    "plt.plot(result, 'ro', ms=10, label='预测值')\n",
    "\n",
    "# 绘制真实值\n",
    "plt.plot(test_y.values, 'go', label='真实值')\n",
    "\n",
    "plt.title('感知器二分类')\n",
    "plt.xlabel('样本序号')\n",
    "plt.ylabel('样本分类')\n",
    "plt.legend()\n",
    "plt.show()"
   ]
  },
  {
   "cell_type": "code",
   "execution_count": 21,
   "metadata": {},
   "outputs": [
    {
     "data": {
      "text/plain": [
       "[<matplotlib.lines.Line2D at 0x1b9e8f6d8b0>]"
      ]
     },
     "execution_count": 21,
     "metadata": {},
     "output_type": "execute_result"
    },
    {
     "data": {
      "image/png": "[encoded data removed]",
      "text/plain": [
       "<Figure size 432x288 with 1 Axes>"
      ]
     },
     "metadata": {
      "needs_background": "light"
     },
     "output_type": "display_data"
    }
   ],
   "source": [
    "# 绘制目标函数的损失值\n",
    "plt.plot(range(1, p.times + 1), p.loss_, 'bo-')"
   ]
  }
 ],
 "metadata": {
  "kernelspec": {
   "display_name": "Python 3",
   "language": "python",
   "name": "python3"
  },
  "language_info": {
   "codemirror_mode": {
    "name": "ipython",
    "version": 3
   },
   "file_extension": ".py",
   "mimetype": "text/x-python",
   "name": "python",
   "nbconvert_exporter": "python",
   "pygments_lexer": "ipython3",
   "version": "3.8.5"
  }
 },
 "nbformat": 4,
 "nbformat_minor": 4
}
