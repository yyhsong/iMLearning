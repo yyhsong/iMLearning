{
 "cells": [
  {
   "cell_type": "markdown",
   "metadata": {},
   "source": [
    "## 有监督学习 Supervised Learning\n",
    "\n",
    "- 训练数据同时用于输入变量(x)和输出变量(y)。\n",
    "- 用一个算法把从输入到输出的映射关系 y = f(x) 学习出来。\n",
    "- 当有新的数据时，就可以通过已经学习得出的模型得到相应的结果。\n",
    "\n",
    "\n",
    "## 无监督学习 Unsupervised Learning\n",
    "\n",
    "- 训练数据只有输入变量，并没有输出变量。\n",
    "- 无监督学习的目的是将训练数据潜在的结构或者分布找出来，以便对这些数据有更多的了解。\n",
    "\n",
    "\n",
    "## 半监督学习 Semi-supervised Learning\n",
    "\n",
    "- 一种混合应用有监督学习和无监督学习的方法。\n",
    "- 有一部分训练数据的输入变量(x)有对应的输出变量(y)，另一些则没有。"
   ]
  },
  {
   "cell_type": "markdown",
   "metadata": {},
   "source": [
    "## KNN算法\n",
    "\n",
    "- KNN(K-Nearest Neighbor, K-最近邻)算法，是一种既可以用于分类，又可以用于回归的非参数统计方法。\n",
    "\n",
    "\n",
    "## KNN算法的基本思想\n",
    "\n",
    "- 训练数据包括样本的特征向量(x)和标签(y)。\n",
    "- k是一个常数，由用户来定义。\n",
    "- 一个没有标签的样本进入算法后，首先找到与它距离最近的k个样本，然后用这k个最近邻的标签来确定它的标签。"
   ]
  }
 ],
 "metadata": {
  "kernelspec": {
   "display_name": "Python 3",
   "language": "python",
   "name": "python3"
  },
  "language_info": {
   "codemirror_mode": {
    "name": "ipython",
    "version": 3
   },
   "file_extension": ".py",
   "mimetype": "text/x-python",
   "name": "python",
   "nbconvert_exporter": "python",
   "pygments_lexer": "ipython3",
   "version": "3.8.5"
  }
 },
 "nbformat": 4,
 "nbformat_minor": 4
}
