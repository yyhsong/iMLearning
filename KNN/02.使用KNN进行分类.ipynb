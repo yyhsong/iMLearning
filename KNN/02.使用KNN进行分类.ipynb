{
 "cells": [
  {
   "cell_type": "markdown",
   "metadata": {},
   "source": [
    "# 使用KNN进行分类"
   ]
  },
  {
   "cell_type": "code",
   "execution_count": 1,
   "metadata": {},
   "outputs": [],
   "source": [
    "import numpy as np\n",
    "import pandas as pd\n",
    "import matplotlib as mpl\n",
    "import matplotlib.pyplot as plt"
   ]
  },
  {
   "cell_type": "markdown",
   "metadata": {},
   "source": [
    "## 数据勘查"
   ]
  },
  {
   "cell_type": "code",
   "execution_count": 3,
   "metadata": {},
   "outputs": [
    {
     "data": {
      "text/html": [
       "<div>\n",
       "<style scoped>\n",
       "    .dataframe tbody tr th:only-of-type {\n",
       "        vertical-align: middle;\n",
       "    }\n",
       "\n",
       "    .dataframe tbody tr th {\n",
       "        vertical-align: top;\n",
       "    }\n",
       "\n",
       "    .dataframe thead th {\n",
       "        text-align: right;\n",
       "    }\n",
       "</style>\n",
       "<table border=\"1\" class=\"dataframe\">\n",
       "  <thead>\n",
       "    <tr style=\"text-align: right;\">\n",
       "      <th></th>\n",
       "      <th>Id</th>\n",
       "      <th>SepalLengthCm</th>\n",
       "      <th>SepalWidthCm</th>\n",
       "      <th>PetalLengthCm</th>\n",
       "      <th>PetalWidthCm</th>\n",
       "      <th>Species</th>\n",
       "    </tr>\n",
       "  </thead>\n",
       "  <tbody>\n",
       "    <tr>\n",
       "      <th>78</th>\n",
       "      <td>79</td>\n",
       "      <td>6.0</td>\n",
       "      <td>2.9</td>\n",
       "      <td>4.5</td>\n",
       "      <td>1.5</td>\n",
       "      <td>Iris-versicolor</td>\n",
       "    </tr>\n",
       "    <tr>\n",
       "      <th>80</th>\n",
       "      <td>81</td>\n",
       "      <td>5.5</td>\n",
       "      <td>2.4</td>\n",
       "      <td>3.8</td>\n",
       "      <td>1.1</td>\n",
       "      <td>Iris-versicolor</td>\n",
       "    </tr>\n",
       "    <tr>\n",
       "      <th>12</th>\n",
       "      <td>13</td>\n",
       "      <td>4.8</td>\n",
       "      <td>3.0</td>\n",
       "      <td>1.4</td>\n",
       "      <td>0.1</td>\n",
       "      <td>Iris-setosa</td>\n",
       "    </tr>\n",
       "    <tr>\n",
       "      <th>105</th>\n",
       "      <td>106</td>\n",
       "      <td>7.6</td>\n",
       "      <td>3.0</td>\n",
       "      <td>6.6</td>\n",
       "      <td>2.1</td>\n",
       "      <td>Iris-virginica</td>\n",
       "    </tr>\n",
       "    <tr>\n",
       "      <th>85</th>\n",
       "      <td>86</td>\n",
       "      <td>6.0</td>\n",
       "      <td>3.4</td>\n",
       "      <td>4.5</td>\n",
       "      <td>1.6</td>\n",
       "      <td>Iris-versicolor</td>\n",
       "    </tr>\n",
       "  </tbody>\n",
       "</table>\n",
       "</div>"
      ],
      "text/plain": [
       "      Id  SepalLengthCm  SepalWidthCm  PetalLengthCm  PetalWidthCm  \\\n",
       "78    79            6.0           2.9            4.5           1.5   \n",
       "80    81            5.5           2.4            3.8           1.1   \n",
       "12    13            4.8           3.0            1.4           0.1   \n",
       "105  106            7.6           3.0            6.6           2.1   \n",
       "85    86            6.0           3.4            4.5           1.6   \n",
       "\n",
       "             Species  \n",
       "78   Iris-versicolor  \n",
       "80   Iris-versicolor  \n",
       "12       Iris-setosa  \n",
       "105   Iris-virginica  \n",
       "85   Iris-versicolor  "
      ]
     },
     "execution_count": 3,
     "metadata": {},
     "output_type": "execute_result"
    }
   ],
   "source": [
    "# 读取鸢尾花数据集\n",
    "# header参数指定标题的行，默认为0，如果没有标题则使用None\n",
    "data = pd.read_csv(r'../Datasets/iris.csv', header=0)\n",
    "\n",
    "data.sample(5)"
   ]
  },
  {
   "cell_type": "code",
   "execution_count": 4,
   "metadata": {},
   "outputs": [],
   "source": [
    "# 删除不需要的列：Id\n",
    "data.drop('Id', axis=1, inplace=True)"
   ]
  },
  {
   "cell_type": "code",
   "execution_count": 5,
   "metadata": {},
   "outputs": [],
   "source": [
    "# 将类别文本映射为数值类型\n",
    "data['Species'] = data['Species'].map({'Iris-setosa':0, 'Iris-virginica':1, 'Iris-versicolor':2})"
   ]
  },
  {
   "cell_type": "code",
   "execution_count": 6,
   "metadata": {},
   "outputs": [
    {
     "data": {
      "text/plain": [
       "True"
      ]
     },
     "execution_count": 6,
     "metadata": {},
     "output_type": "execute_result"
    }
   ],
   "source": [
    "# 检验数据集中是否有重复记录\n",
    "data.duplicated().any()"
   ]
  },
  {
   "cell_type": "code",
   "execution_count": 7,
   "metadata": {},
   "outputs": [],
   "source": [
    "# 删除数据集中的重复记录\n",
    "data.drop_duplicates(inplace=True)"
   ]
  },
  {
   "cell_type": "code",
   "execution_count": 8,
   "metadata": {},
   "outputs": [
    {
     "data": {
      "text/plain": [
       "2    50\n",
       "1    49\n",
       "0    48\n",
       "Name: Species, dtype: int64"
      ]
     },
     "execution_count": 8,
     "metadata": {},
     "output_type": "execute_result"
    }
   ],
   "source": [
    "# 查看不同类别的鸢尾花各有多少条记录\n",
    "data['Species'].value_counts()"
   ]
  },
  {
   "cell_type": "markdown",
   "metadata": {},
   "source": [
    "## 算法实现"
   ]
  },
  {
   "cell_type": "code",
   "execution_count": 9,
   "metadata": {},
   "outputs": [],
   "source": [
    "class KNN:\n",
    "    # 初始化方法\n",
    "    def __init__(self, k):\n",
    "        self.k = k\n",
    "        \n",
    "    # 训练方法\n",
    "    def fit(self, X, y):\n",
    "        self.X = np.asarray(X)\n",
    "        self.y = np.asarray(y)\n",
    "        \n",
    "    # 预测方法\n",
    "    def predict(self, X):\n",
    "        X = np.asarray(X)\n",
    "        result = []\n",
    "        \n",
    "        # 对ndarray进行遍历，每次取数组中的一行进行运算（数组之间对位运算）\n",
    "        for x in X:\n",
    "            # 对于数据集中的每一个样本，依次与所有样本求欧氏距离\n",
    "            dis = np.sqrt(np.sum((x - self.X) ** 2, axis=1))\n",
    "            \n",
    "            # 返回数组排序后，每个元素在原数组（排序之前的数组）中的索引\n",
    "            index = dis.argsort()\n",
    "            \n",
    "            # 进行截断，只取前k个元素，取距离最近的k个元素的索引\n",
    "            index = index[:self.k]\n",
    "            \n",
    "            # 返回数组中每个元素出现的次数，元素必须是非负的整数\n",
    "            count = np.bincount(self.y[index])\n",
    "            \n",
    "            # 考虑权重\n",
    "            #count = np.bincount(self.y[index], weights=1/dis[index])\n",
    "            \n",
    "            # 返回数组中值最大的元素对应的索引，该索引就是判定的索引\n",
    "            # 最大元素索引，就是出现次数最多的元素\n",
    "            result.append(count.argmax())\n",
    "        \n",
    "        return np.asarray(result)"
   ]
  },
  {
   "cell_type": "code",
   "execution_count": 10,
   "metadata": {},
   "outputs": [],
   "source": [
    "# 提取每个类别的鸢尾花数据\n",
    "d0 = data[data['Species'] == 0]\n",
    "d1 = data[data['Species'] == 1]\n",
    "d2 = data[data['Species'] == 2]\n",
    "\n",
    "# 对每个类别数据进行随机排序\n",
    "d0 = d0.sample(len(d0), random_state=0)\n",
    "d1 = d1.sample(len(d1), random_state=0)\n",
    "d2 = d2.sample(len(d2), random_state=0)"
   ]
  },
  {
   "cell_type": "code",
   "execution_count": 11,
   "metadata": {},
   "outputs": [],
   "source": [
    "# 构建训练集\n",
    "train_X = pd.concat([d0.iloc[:40, :-1], d1.iloc[:40, :-1], d2.iloc[:40, :-1]], axis=0)\n",
    "train_y = pd.concat([d0.iloc[:40, -1], d1.iloc[:40, -1], d2.iloc[:40, -1]], axis=0)\n",
    "\n",
    "# 构建测试集\n",
    "test_X = pd.concat([d0.iloc[40:, :-1], d1.iloc[40:, :-1], d2.iloc[40:, :-1]], axis=0)\n",
    "test_y = pd.concat([d0.iloc[40:, -1], d1.iloc[40:, -1], d2.iloc[40:, -1]], axis=0)"
   ]
  },
  {
   "cell_type": "code",
   "execution_count": 17,
   "metadata": {},
   "outputs": [
    {
     "name": "stdout",
     "output_type": "stream",
     "text": [
      "预测结果：\n"
     ]
    },
    {
     "data": {
      "text/plain": [
       "array([0, 0, 0, 0, 0, 0, 0, 0, 1, 2, 1, 1, 1, 1, 1, 1, 1, 2, 2, 2, 2, 2,\n",
       "       2, 2, 2, 2, 2], dtype=int64)"
      ]
     },
     "metadata": {},
     "output_type": "display_data"
    },
    {
     "name": "stdout",
     "output_type": "stream",
     "text": [
      "准确率：\n"
     ]
    },
    {
     "data": {
      "text/plain": [
       "0.9629629629629629"
      ]
     },
     "metadata": {},
     "output_type": "display_data"
    }
   ],
   "source": [
    "# 创建KNN对象\n",
    "knn = KNN(k=3)\n",
    "\n",
    "# 训练\n",
    "knn.fit(train_X, train_y)\n",
    "\n",
    "# 预测\n",
    "result = knn.predict(test_X)\n",
    "\n",
    "print('预测结果：')\n",
    "display(result)\n",
    "\n",
    "print('准确率：')\n",
    "display(np.sum(result == test_y) / len(test_y))"
   ]
  },
  {
   "cell_type": "markdown",
   "metadata": {},
   "source": [
    "## 数据可视化"
   ]
  },
  {
   "cell_type": "code",
   "execution_count": 18,
   "metadata": {},
   "outputs": [],
   "source": [
    "# 设置matplotlib支持中文\n",
    "mpl.rcParams['font.family'] = 'SimHei'\n",
    "\n",
    "# 设置在使用中文字体时，能够正常显示负号(-)\n",
    "mpl.rcParams['axes.unicode_minus'] = False"
   ]
  },
  {
   "cell_type": "code",
   "execution_count": 37,
   "metadata": {},
   "outputs": [
    {
     "data": {
      "image/png": "[encoded data removed]",
      "text/plain": [
       "<Figure size 1152x648 with 1 Axes>"
      ]
     },
     "metadata": {
      "needs_background": "light"
     },
     "output_type": "display_data"
    }
   ],
   "source": [
    "# 设置图表大小\n",
    "plt.figure(figsize=(16, 9))\n",
    "\n",
    "# 绘制训练数据集\n",
    "plt.scatter(x=d0['SepalLengthCm'][:40], y=d0['PetalLengthCm'][:40], color='m', label='Iris-setosa')\n",
    "plt.scatter(x=d1['SepalLengthCm'][:40], y=d1['PetalLengthCm'][:40], color='b', label='Iris-virginica')\n",
    "plt.scatter(x=d2['SepalLengthCm'][:40], y=d2['PetalLengthCm'][:40], color='c', label='Iris-versicolor')\n",
    "\n",
    "# 绘制测试数据集\n",
    "test_true = test_X[result == test_y]\n",
    "test_false = test_X[result != test_y]\n",
    "plt.scatter(x=test_true['SepalLengthCm'], y=test_true['PetalLengthCm'], color='g', marker='>', label='Test-True')\n",
    "plt.scatter(x=test_false['SepalLengthCm'], y=test_false['PetalLengthCm'], color='r', marker='x', label='Test-False')\n",
    "\n",
    "# 渲染图表\n",
    "plt.xlabel('花萼长度')\n",
    "plt.ylabel('花瓣长度')\n",
    "plt.title('KNN分类结果')\n",
    "plt.legend(loc='best')\n",
    "plt.show()"
   ]
  }
 ],
 "metadata": {
  "kernelspec": {
   "display_name": "Python 3",
   "language": "python",
   "name": "python3"
  },
  "language_info": {
   "codemirror_mode": {
    "name": "ipython",
    "version": 3
   },
   "file_extension": ".py",
   "mimetype": "text/x-python",
   "name": "python",
   "nbconvert_exporter": "python",
   "pygments_lexer": "ipython3",
   "version": "3.8.5"
  }
 },
 "nbformat": 4,
 "nbformat_minor": 4
}
