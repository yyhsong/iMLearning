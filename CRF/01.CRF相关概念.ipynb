{
 "cells": [
  {
   "cell_type": "markdown",
   "metadata": {},
   "source": [
    "## 概率无向图模型 Probabilistic Undirected Graphical Model\n",
    "\n",
    "- 概率无向图模型是一个可以用无向图表示的联合概率分布。\n",
    "- 它的整体结构是一张图（Graph），图中每一个节点表示一个或者一组变量，节点之间的边表示这两个/组变量之间的依赖关系。\n",
    "- 概率无向图模型也叫马尔科夫随机场。\n",
    "\n",
    "\n",
    "- 势函数 Potential Function: 又称因子 Factor， 是定义在变量子集上的非负实函数，用于定义概率分布函数。\n",
    "- 团 Clique: 图中节点的子集，其中任意两个节点之间都有边连接。\n",
    "- 极大图：一个团，其中加入任何一个其他的节点都不能再形成团。\n",
    "- 马尔科夫随机场中，多个变量之间的联合概率分布可以基于团分解为多个势函数的乘积，每个势函数仅与一个团相关。\n",
    "- Hammersley-Clifford 定理，是随机场（Random Fields）的基础定理，它给出了一个马尔科夫随机场被表达为正概率分布的充分必要条件。"
   ]
  },
  {
   "cell_type": "markdown",
   "metadata": {},
   "source": [
    "## 马尔科夫性 Markov Property\n",
    "\n",
    "- 分离：设A, B, C都是马尔科夫随机场中的节点集合，若从A中的节点到B中的节点都必须经过C中的节点，则称A和B被C分离，C称为分离集。\n",
    "- 马尔科夫性：当一个随机过程在给定当前状态及所有过去状态情况下，其未来状态的条件概率分布仅依赖于当前状态。换句话说，在给定当前状态时，它与过去状态（即该过程的历史路径）是条件独立的，那么此随机过程即具有马尔科夫性。\n",
    "\n",
    "\n",
    "- 马尔科夫随机场具备全局马尔科夫性：给定两个变量子集的分离集，则这两个变量子集条件独立。\n",
    "- 局部马尔科夫性：给定某变量的邻接变量，则该变量条件独立于其他变量。\n",
    "- 成对马尔科夫性：给定所有其他变量，两个非连接变量条件独立。"
   ]
  },
  {
   "cell_type": "markdown",
   "metadata": {},
   "source": [
    "## 条件随机场 CRF: Conditional Random Fields\n",
    "\n",
    "- CRF也是一种无向图模型，它和马尔科夫随机场的区别在于：马尔科夫随机场是生成式模型，直接对联合分布进行建模；而条件随机场是判别式模型，对条件分布进行建模。\n",
    "- 但两者又是相关的，CRF是“有条件的”马尔科夫随机场，也就是说CRF是给定随机变量X条件下，随机变量Y的马尔科夫随机场。\n",
    "- 在现实应用中，最常被用到的CRF是线性链（Linear Chain）CRF。"
   ]
  },
  {
   "cell_type": "markdown",
   "metadata": {},
   "source": [
    "## HMM vs 线性链 CRF\n",
    "\n",
    "- HMM是有向图，CRF是无向图。\n",
    "- HMM计算的是状态和观测的联合概率，而CRF计算的是状态基于观测的条件概率。\n",
    "- 从使用的角度，HMM多用于那种状态“原生”，而观测是状态“生成”出来的场景；CRF则多用于那种观测“原生”，状态“后天”产生，用来标记观测的结果。"
   ]
  }
 ],
 "metadata": {
  "kernelspec": {
   "display_name": "Python 3",
   "language": "python",
   "name": "python3"
  },
  "language_info": {
   "codemirror_mode": {
    "name": "ipython",
    "version": 3
   },
   "file_extension": ".py",
   "mimetype": "text/x-python",
   "name": "python",
   "nbconvert_exporter": "python",
   "pygments_lexer": "ipython3",
   "version": "3.8.5"
  }
 },
 "nbformat": 4,
 "nbformat_minor": 4
}
