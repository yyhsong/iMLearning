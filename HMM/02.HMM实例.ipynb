{
 "cells": [
  {
   "cell_type": "markdown",
   "metadata": {},
   "source": [
    "# 小马轮盘赌问题"
   ]
  },
  {
   "cell_type": "code",
   "execution_count": 2,
   "metadata": {},
   "outputs": [],
   "source": [
    "from __future__ import division\n",
    "import numpy as np\n",
    "from hmmlearn import hmm"
   ]
  },
  {
   "cell_type": "code",
   "execution_count": 4,
   "metadata": {},
   "outputs": [],
   "source": [
    "# 计算观测序列出现的概率\n",
    "def calculateLikelyHood(model, X):\n",
    "    score = model.score(np.atleast_2d(X).T)\n",
    "    \n",
    "    print('\\n\\n[CaculateLikelyHood]:')\n",
    "    print('\\nobservations:')\n",
    "    \n",
    "    for observation in list(map(lambda x: observations[x], X)):\n",
    "        print(' ', observation)\n",
    "        \n",
    "    print('\\nlikelyhood: ', np.exp(score))"
   ]
  },
  {
   "cell_type": "code",
   "execution_count": 5,
   "metadata": {},
   "outputs": [],
   "source": [
    "# 预测最有可能产生如此观测序列的状态序列\n",
    "def optimizeStates(model, X):\n",
    "    Y = model.decode(np.atleast_2d(X).T)\n",
    "    \n",
    "    print('\\n\\n[OptimizeStates]:')\n",
    "    print('\\nobservations:')\n",
    "    \n",
    "    for observation in list(map(lambda x: observations[x], X)):\n",
    "        print(' ', observation)\n",
    "        \n",
    "    print('\\nstates:')\n",
    "    for state in list(map(lambda x: states[x], Y[1])):\n",
    "        print(' ', state)"
   ]
  },
  {
   "cell_type": "code",
   "execution_count": 6,
   "metadata": {},
   "outputs": [],
   "source": [
    "# 状态空间\n",
    "states = ['Gold', 'Silver', 'Bronze']\n",
    "n_states = len(states)\n",
    "\n",
    "# 观测空间\n",
    "observations = ['Ruby', 'Pearl', 'Coral', 'Sapphire']\n",
    "n_observations = len(observations)"
   ]
  },
  {
   "cell_type": "code",
   "execution_count": 10,
   "metadata": {},
   "outputs": [],
   "source": [
    "# 初始状态概率\n",
    "start_probability = np.array([0.3, 0.3, 0.4])\n",
    "\n",
    "# 状态转移概率\n",
    "transition_probability = np.array([\n",
    "    [0.1, 0.5, 0.4],\n",
    "    [0.4, 0.2, 0.4],\n",
    "    [0.5, 0.3, 0.2]\n",
    "])\n",
    "\n",
    "# 输出观测概率\n",
    "emission_probability = np.array([\n",
    "    [0.4, 0.2, 0.2, 0.2],\n",
    "    [0.25, 0.25, 0.25, 0.25],\n",
    "    [0.33, 0.33, 0.33, 0.01]\n",
    "])"
   ]
  },
  {
   "cell_type": "code",
   "execution_count": 11,
   "metadata": {},
   "outputs": [],
   "source": [
    "model = hmm.MultinomialHMM(n_components=3)\n",
    "\n",
    "model.startprob_ = start_probability\n",
    "model.transmat_ = transition_probability\n",
    "model.emissionprob_ = emission_probability"
   ]
  },
  {
   "cell_type": "code",
   "execution_count": 12,
   "metadata": {},
   "outputs": [
    {
     "name": "stdout",
     "output_type": "stream",
     "text": [
      "\n",
      "\n",
      "[CaculateLikelyHood]:\n",
      "\n",
      "observations:\n",
      "  Ruby\n",
      "  Pearl\n",
      "  Coral\n",
      "\n",
      "likelyhood:  0.021792431999999997\n",
      "\n",
      "\n",
      "[OptimizeStates]:\n",
      "\n",
      "observations:\n",
      "  Ruby\n",
      "  Pearl\n",
      "  Coral\n",
      "\n",
      "states:\n",
      "  Gold\n",
      "  Silver\n",
      "  Bronze\n"
     ]
    }
   ],
   "source": [
    "X1 = [0, 1, 2]\n",
    "\n",
    "calculateLikelyHood(model, X1)\n",
    "optimizeStates(model, X1)"
   ]
  },
  {
   "cell_type": "code",
   "execution_count": 13,
   "metadata": {},
   "outputs": [
    {
     "name": "stdout",
     "output_type": "stream",
     "text": [
      "\n",
      "\n",
      "[CaculateLikelyHood]:\n",
      "\n",
      "observations:\n",
      "  Ruby\n",
      "  Ruby\n",
      "  Ruby\n",
      "\n",
      "likelyhood:  0.03437683199999999\n",
      "\n",
      "\n",
      "[OptimizeStates]:\n",
      "\n",
      "observations:\n",
      "  Ruby\n",
      "  Ruby\n",
      "  Ruby\n",
      "\n",
      "states:\n",
      "  Bronze\n",
      "  Gold\n",
      "  Bronze\n"
     ]
    }
   ],
   "source": [
    "X2 = [0, 0, 0]\n",
    "\n",
    "calculateLikelyHood(model, X2)\n",
    "optimizeStates(model, X2)"
   ]
  }
 ],
 "metadata": {
  "kernelspec": {
   "display_name": "Python 3",
   "language": "python",
   "name": "python3"
  },
  "language_info": {
   "codemirror_mode": {
    "name": "ipython",
    "version": 3
   },
   "file_extension": ".py",
   "mimetype": "text/x-python",
   "name": "python",
   "nbconvert_exporter": "python",
   "pygments_lexer": "ipython3",
   "version": "3.8.5"
  }
 },
 "nbformat": 4,
 "nbformat_minor": 4
}
