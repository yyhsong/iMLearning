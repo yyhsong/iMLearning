{
 "cells": [
  {
   "cell_type": "markdown",
   "metadata": {},
   "source": [
    "# 用KMeans实现订单聚类分析"
   ]
  },
  {
   "cell_type": "code",
   "execution_count": 1,
   "metadata": {},
   "outputs": [],
   "source": [
    "import numpy as np\n",
    "import pandas as pd\n",
    "import matplotlib as mpl\n",
    "import matplotlib.pyplot as plt\n",
    "\n",
    "mpl.rcParams[\"font.family\"] = \"SimHei\"\n",
    "mpl.rcParams[\"axes.unicode_minus\"] = False"
   ]
  },
  {
   "cell_type": "markdown",
   "metadata": {},
   "source": [
    "## 数据勘查"
   ]
  },
  {
   "cell_type": "code",
   "execution_count": 2,
   "metadata": {},
   "outputs": [
    {
     "name": "stdout",
     "output_type": "stream",
     "text": [
      "<class 'pandas.core.frame.DataFrame'>\n",
      "RangeIndex: 30000 entries, 0 to 29999\n",
      "Data columns (total 14 columns):\n",
      " #   Column       Non-Null Count  Dtype  \n",
      "---  ------       --------------  -----  \n",
      " 0   customer     30000 non-null  int64  \n",
      " 1   order        30000 non-null  int64  \n",
      " 2   total_items  30000 non-null  int64  \n",
      " 3   discount%    30000 non-null  float64\n",
      " 4   weekday      30000 non-null  int64  \n",
      " 5   hour         30000 non-null  int64  \n",
      " 6   Food%        30000 non-null  float64\n",
      " 7   Fresh%       30000 non-null  float64\n",
      " 8   Drinks%      30000 non-null  float64\n",
      " 9   Home%        30000 non-null  float64\n",
      " 10  Beauty%      30000 non-null  float64\n",
      " 11  Health%      30000 non-null  float64\n",
      " 12  Baby%        30000 non-null  float64\n",
      " 13  Pets%        30000 non-null  float64\n",
      "dtypes: float64(9), int64(5)\n",
      "memory usage: 3.2 MB\n"
     ]
    }
   ],
   "source": [
    "# 读取订单数据\n",
    "data = pd.read_csv(r'../Datasets/orders.csv')\n",
    "\n",
    "data.info()"
   ]
  },
  {
   "cell_type": "code",
   "execution_count": 4,
   "metadata": {},
   "outputs": [
    {
     "data": {
      "text/html": [
       "<div>\n",
       "<style scoped>\n",
       "    .dataframe tbody tr th:only-of-type {\n",
       "        vertical-align: middle;\n",
       "    }\n",
       "\n",
       "    .dataframe tbody tr th {\n",
       "        vertical-align: top;\n",
       "    }\n",
       "\n",
       "    .dataframe thead th {\n",
       "        text-align: right;\n",
       "    }\n",
       "</style>\n",
       "<table border=\"1\" class=\"dataframe\">\n",
       "  <thead>\n",
       "    <tr style=\"text-align: right;\">\n",
       "      <th></th>\n",
       "      <th>Food%</th>\n",
       "      <th>Fresh%</th>\n",
       "      <th>Drinks%</th>\n",
       "      <th>Home%</th>\n",
       "      <th>Beauty%</th>\n",
       "      <th>Health%</th>\n",
       "      <th>Baby%</th>\n",
       "      <th>Pets%</th>\n",
       "    </tr>\n",
       "  </thead>\n",
       "  <tbody>\n",
       "    <tr>\n",
       "      <th>24932</th>\n",
       "      <td>46.89</td>\n",
       "      <td>53.11</td>\n",
       "      <td>0.00</td>\n",
       "      <td>0.0</td>\n",
       "      <td>0.00</td>\n",
       "      <td>0.0</td>\n",
       "      <td>0.0</td>\n",
       "      <td>0.0</td>\n",
       "    </tr>\n",
       "    <tr>\n",
       "      <th>27027</th>\n",
       "      <td>0.00</td>\n",
       "      <td>0.00</td>\n",
       "      <td>0.00</td>\n",
       "      <td>0.0</td>\n",
       "      <td>0.00</td>\n",
       "      <td>0.0</td>\n",
       "      <td>100.0</td>\n",
       "      <td>0.0</td>\n",
       "    </tr>\n",
       "    <tr>\n",
       "      <th>7036</th>\n",
       "      <td>13.90</td>\n",
       "      <td>75.97</td>\n",
       "      <td>6.18</td>\n",
       "      <td>0.0</td>\n",
       "      <td>3.95</td>\n",
       "      <td>0.0</td>\n",
       "      <td>0.0</td>\n",
       "      <td>0.0</td>\n",
       "    </tr>\n",
       "    <tr>\n",
       "      <th>16242</th>\n",
       "      <td>22.76</td>\n",
       "      <td>42.89</td>\n",
       "      <td>24.79</td>\n",
       "      <td>0.0</td>\n",
       "      <td>9.55</td>\n",
       "      <td>0.0</td>\n",
       "      <td>0.0</td>\n",
       "      <td>0.0</td>\n",
       "    </tr>\n",
       "    <tr>\n",
       "      <th>5063</th>\n",
       "      <td>100.00</td>\n",
       "      <td>0.00</td>\n",
       "      <td>0.00</td>\n",
       "      <td>0.0</td>\n",
       "      <td>0.00</td>\n",
       "      <td>0.0</td>\n",
       "      <td>0.0</td>\n",
       "      <td>0.0</td>\n",
       "    </tr>\n",
       "  </tbody>\n",
       "</table>\n",
       "</div>"
      ],
      "text/plain": [
       "        Food%  Fresh%  Drinks%  Home%  Beauty%  Health%  Baby%  Pets%\n",
       "24932   46.89   53.11     0.00    0.0     0.00      0.0    0.0    0.0\n",
       "27027    0.00    0.00     0.00    0.0     0.00      0.0  100.0    0.0\n",
       "7036    13.90   75.97     6.18    0.0     3.95      0.0    0.0    0.0\n",
       "16242   22.76   42.89    24.79    0.0     9.55      0.0    0.0    0.0\n",
       "5063   100.00    0.00     0.00    0.0     0.00      0.0    0.0    0.0"
      ]
     },
     "execution_count": 4,
     "metadata": {},
     "output_type": "execute_result"
    }
   ],
   "source": [
    "# 截取后面的8列数据\n",
    "d = data.iloc[:, -8:]\n",
    "\n",
    "d.sample(5)"
   ]
  },
  {
   "cell_type": "markdown",
   "metadata": {},
   "source": [
    "## 算法实现"
   ]
  },
  {
   "cell_type": "code",
   "execution_count": 8,
   "metadata": {},
   "outputs": [],
   "source": [
    "class KMeans:\n",
    "    \n",
    "    # 初始化\n",
    "    # k: 聚类个数\n",
    "    # times: 迭代次数\n",
    "    def __init__(self, k, times):\n",
    "        self.k = k\n",
    "        self.times = times\n",
    "        \n",
    "    # 训练\n",
    "    def fit(self, X):\n",
    "        X = np.asarray(X)\n",
    "        \n",
    "        # 设置随机种子，以便产生相同的随机序列\n",
    "        np.random.seed(0)\n",
    "        \n",
    "        # 从数组中随机选择k个点作为初始聚类中心\n",
    "        self.cluster_centers_ =  X[np.random.randint(0, len(X), self.k)]\n",
    "        self.labels_ = np.zeros(len(X))\n",
    "        \n",
    "        # 迭代\n",
    "        for t in range(self.times):\n",
    "            for index, x in enumerate(X):\n",
    "                # 计算每个样本与聚类中心的距离\n",
    "                dis = np.sqrt(np.sum((x - self.cluster_centers_) ** 2, axis=1))\n",
    "                # 将最小距离的索引赋值给标签数组，索引的值就是当前点所属的簇，范围是[0, k-1]\n",
    "                self.labels_[index] = dis.argmin()\n",
    "            # 循环遍历每一个簇\n",
    "            for i in range(self.k):\n",
    "                # 计算每个簇内所有点的均值，更新聚类中心\n",
    "                self.cluster_centers_[i] = np.mean(X[self.labels_ == i], axis=0)\n",
    "                \n",
    "    # 预测\n",
    "    def predict(self, X):\n",
    "        X = np.asarray(X)\n",
    "        result = np.zeros(len(X))\n",
    "        for index,x in enumerate(X):\n",
    "            # 计算样本到每个聚类中心的距离\n",
    "            dis = np.sqrt(np.sum((x - self.cluster_centers_) ** 2, axis=1))\n",
    "            # 找到距离最近的聚类中心，划分类别\n",
    "            result[index] = dis.argmin()\n",
    "        return result"
   ]
  },
  {
   "cell_type": "code",
   "execution_count": 9,
   "metadata": {},
   "outputs": [],
   "source": [
    "# 训练模型\n",
    "kmeans = KMeans(3, 50)\n",
    "kmeans.fit(d)"
   ]
  },
  {
   "cell_type": "code",
   "execution_count": 10,
   "metadata": {},
   "outputs": [
    {
     "data": {
      "text/plain": [
       "array([[46.33977936,  8.93380516, 23.19047005, 13.11741633,  4.8107557 ,\n",
       "         1.17283735,  1.35704647,  0.95392773],\n",
       "       [19.5308009 , 50.42856608, 14.70652695,  7.89437019,  3.69829234,\n",
       "         0.91000428,  1.92515077,  0.82113238],\n",
       "       [ 7.93541008,  4.56182052, 30.65583437, 18.57726789,  8.61597195,\n",
       "         1.28482514, 26.81950293,  1.30158264]])"
      ]
     },
     "execution_count": 10,
     "metadata": {},
     "output_type": "execute_result"
    }
   ],
   "source": [
    "# 查看聚类中心\n",
    "kmeans.cluster_centers_"
   ]
  },
  {
   "cell_type": "code",
   "execution_count": 11,
   "metadata": {},
   "outputs": [
    {
     "data": {
      "text/html": [
       "<div>\n",
       "<style scoped>\n",
       "    .dataframe tbody tr th:only-of-type {\n",
       "        vertical-align: middle;\n",
       "    }\n",
       "\n",
       "    .dataframe tbody tr th {\n",
       "        vertical-align: top;\n",
       "    }\n",
       "\n",
       "    .dataframe thead th {\n",
       "        text-align: right;\n",
       "    }\n",
       "</style>\n",
       "<table border=\"1\" class=\"dataframe\">\n",
       "  <thead>\n",
       "    <tr style=\"text-align: right;\">\n",
       "      <th></th>\n",
       "      <th>Food%</th>\n",
       "      <th>Fresh%</th>\n",
       "      <th>Drinks%</th>\n",
       "      <th>Home%</th>\n",
       "      <th>Beauty%</th>\n",
       "      <th>Health%</th>\n",
       "      <th>Baby%</th>\n",
       "      <th>Pets%</th>\n",
       "    </tr>\n",
       "  </thead>\n",
       "  <tbody>\n",
       "    <tr>\n",
       "      <th>15</th>\n",
       "      <td>48.23</td>\n",
       "      <td>20.37</td>\n",
       "      <td>15.38</td>\n",
       "      <td>8.29</td>\n",
       "      <td>7.73</td>\n",
       "      <td>0.0</td>\n",
       "      <td>0.0</td>\n",
       "      <td>0.0</td>\n",
       "    </tr>\n",
       "    <tr>\n",
       "      <th>23</th>\n",
       "      <td>24.10</td>\n",
       "      <td>22.29</td>\n",
       "      <td>38.69</td>\n",
       "      <td>14.92</td>\n",
       "      <td>0.00</td>\n",
       "      <td>0.0</td>\n",
       "      <td>0.0</td>\n",
       "      <td>0.0</td>\n",
       "    </tr>\n",
       "    <tr>\n",
       "      <th>24</th>\n",
       "      <td>36.51</td>\n",
       "      <td>31.93</td>\n",
       "      <td>27.18</td>\n",
       "      <td>4.38</td>\n",
       "      <td>0.00</td>\n",
       "      <td>0.0</td>\n",
       "      <td>0.0</td>\n",
       "      <td>0.0</td>\n",
       "    </tr>\n",
       "    <tr>\n",
       "      <th>40</th>\n",
       "      <td>22.76</td>\n",
       "      <td>0.00</td>\n",
       "      <td>0.00</td>\n",
       "      <td>77.24</td>\n",
       "      <td>0.00</td>\n",
       "      <td>0.0</td>\n",
       "      <td>0.0</td>\n",
       "      <td>0.0</td>\n",
       "    </tr>\n",
       "    <tr>\n",
       "      <th>43</th>\n",
       "      <td>65.64</td>\n",
       "      <td>12.36</td>\n",
       "      <td>21.99</td>\n",
       "      <td>0.00</td>\n",
       "      <td>0.00</td>\n",
       "      <td>0.0</td>\n",
       "      <td>0.0</td>\n",
       "      <td>0.0</td>\n",
       "    </tr>\n",
       "    <tr>\n",
       "      <th>...</th>\n",
       "      <td>...</td>\n",
       "      <td>...</td>\n",
       "      <td>...</td>\n",
       "      <td>...</td>\n",
       "      <td>...</td>\n",
       "      <td>...</td>\n",
       "      <td>...</td>\n",
       "      <td>...</td>\n",
       "    </tr>\n",
       "    <tr>\n",
       "      <th>29974</th>\n",
       "      <td>33.93</td>\n",
       "      <td>0.00</td>\n",
       "      <td>17.46</td>\n",
       "      <td>41.46</td>\n",
       "      <td>7.15</td>\n",
       "      <td>0.0</td>\n",
       "      <td>0.0</td>\n",
       "      <td>0.0</td>\n",
       "    </tr>\n",
       "    <tr>\n",
       "      <th>29977</th>\n",
       "      <td>45.10</td>\n",
       "      <td>0.00</td>\n",
       "      <td>26.68</td>\n",
       "      <td>28.22</td>\n",
       "      <td>0.00</td>\n",
       "      <td>0.0</td>\n",
       "      <td>0.0</td>\n",
       "      <td>0.0</td>\n",
       "    </tr>\n",
       "    <tr>\n",
       "      <th>29988</th>\n",
       "      <td>28.21</td>\n",
       "      <td>0.00</td>\n",
       "      <td>48.34</td>\n",
       "      <td>23.44</td>\n",
       "      <td>0.00</td>\n",
       "      <td>0.0</td>\n",
       "      <td>0.0</td>\n",
       "      <td>0.0</td>\n",
       "    </tr>\n",
       "    <tr>\n",
       "      <th>29989</th>\n",
       "      <td>61.32</td>\n",
       "      <td>0.00</td>\n",
       "      <td>23.34</td>\n",
       "      <td>15.34</td>\n",
       "      <td>0.00</td>\n",
       "      <td>0.0</td>\n",
       "      <td>0.0</td>\n",
       "      <td>0.0</td>\n",
       "    </tr>\n",
       "    <tr>\n",
       "      <th>29990</th>\n",
       "      <td>29.74</td>\n",
       "      <td>28.72</td>\n",
       "      <td>19.52</td>\n",
       "      <td>22.02</td>\n",
       "      <td>0.00</td>\n",
       "      <td>0.0</td>\n",
       "      <td>0.0</td>\n",
       "      <td>0.0</td>\n",
       "    </tr>\n",
       "  </tbody>\n",
       "</table>\n",
       "<p>9382 rows × 8 columns</p>\n",
       "</div>"
      ],
      "text/plain": [
       "       Food%  Fresh%  Drinks%  Home%  Beauty%  Health%  Baby%  Pets%\n",
       "15     48.23   20.37    15.38   8.29     7.73      0.0    0.0    0.0\n",
       "23     24.10   22.29    38.69  14.92     0.00      0.0    0.0    0.0\n",
       "24     36.51   31.93    27.18   4.38     0.00      0.0    0.0    0.0\n",
       "40     22.76    0.00     0.00  77.24     0.00      0.0    0.0    0.0\n",
       "43     65.64   12.36    21.99   0.00     0.00      0.0    0.0    0.0\n",
       "...      ...     ...      ...    ...      ...      ...    ...    ...\n",
       "29974  33.93    0.00    17.46  41.46     7.15      0.0    0.0    0.0\n",
       "29977  45.10    0.00    26.68  28.22     0.00      0.0    0.0    0.0\n",
       "29988  28.21    0.00    48.34  23.44     0.00      0.0    0.0    0.0\n",
       "29989  61.32    0.00    23.34  15.34     0.00      0.0    0.0    0.0\n",
       "29990  29.74   28.72    19.52  22.02     0.00      0.0    0.0    0.0\n",
       "\n",
       "[9382 rows x 8 columns]"
      ]
     },
     "execution_count": 11,
     "metadata": {},
     "output_type": "execute_result"
    }
   ],
   "source": [
    "# 查看某个簇内的所有样本数据\n",
    "d[kmeans.labels_ == 0]"
   ]
  },
  {
   "cell_type": "code",
   "execution_count": 12,
   "metadata": {},
   "outputs": [
    {
     "data": {
      "text/plain": [
       "array([0., 2., 1.])"
      ]
     },
     "execution_count": 12,
     "metadata": {},
     "output_type": "execute_result"
    }
   ],
   "source": [
    "# 预测新样本\n",
    "kmeans.predict([[30, 30, 40, 0, 0, 0, 0, 0], [0, 0, 0, 0, 0, 30, 30, 40], [30, 30, 0, 0, 0, 0, 20, 20]])"
   ]
  },
  {
   "cell_type": "markdown",
   "metadata": {},
   "source": [
    "## 购买食物与生鲜的聚类分析"
   ]
  },
  {
   "cell_type": "code",
   "execution_count": 13,
   "metadata": {},
   "outputs": [],
   "source": [
    "d2 = data.loc[:, 'Food%':'Fresh%']\n",
    "kmeans = KMeans(3, 50)\n",
    "kmeans.fit(d2)"
   ]
  },
  {
   "cell_type": "code",
   "execution_count": 15,
   "metadata": {},
   "outputs": [
    {
     "data": {
      "image/png": "[encoded data removed]",
      "text/plain": [
       "<Figure size 1152x648 with 1 Axes>"
      ]
     },
     "metadata": {
      "needs_background": "light"
     },
     "output_type": "display_data"
    }
   ],
   "source": [
    "# 设置图表大小\n",
    "plt.figure(figsize=(16, 9))\n",
    "\n",
    "# 绘制每个聚类的散点图\n",
    "plt.scatter(d2[kmeans.labels_ == 0].iloc[:, 0], d2[kmeans.labels_ == 0].iloc[:, 1], label=\"聚类1\")\n",
    "plt.scatter(d2[kmeans.labels_ == 1].iloc[:, 0], d2[kmeans.labels_ == 1].iloc[:, 1], label=\"聚类2\")\n",
    "plt.scatter(d2[kmeans.labels_ == 2].iloc[:, 0], d2[kmeans.labels_ == 2].iloc[:, 1], label=\"聚类3\")\n",
    "\n",
    "# 绘制聚类中心\n",
    "plt.scatter(kmeans.cluster_centers_[:, 0], kmeans.cluster_centers_[:, 1], marker=\"+\", s=300)\n",
    "\n",
    "# 渲染图表\n",
    "plt.title(\"购买食物与生鲜的聚类分析\")\n",
    "plt.xlabel(\"食物\")\n",
    "plt.ylabel(\"生鲜\")\n",
    "plt.legend()\n",
    "plt.show()"
   ]
  }
 ],
 "metadata": {
  "kernelspec": {
   "display_name": "Python 3",
   "language": "python",
   "name": "python3"
  },
  "language_info": {
   "codemirror_mode": {
    "name": "ipython",
    "version": 3
   },
   "file_extension": ".py",
   "mimetype": "text/x-python",
   "name": "python",
   "nbconvert_exporter": "python",
   "pygments_lexer": "ipython3",
   "version": "3.8.5"
  }
 },
 "nbformat": 4,
 "nbformat_minor": 4
}
