{
 "cells": [
  {
   "cell_type": "markdown",
   "metadata": {},
   "source": [
    "## EM算法：估计含有隐变量的概率模型的参数\n",
    "\n",
    "- 有的时候，概率模型既含有可以看得见取值的观测变量，又含有直接看不到的隐变量（Hidden Variable，又称潜在变量 Latent Variable）。\n",
    "- EM（期望最大化，Expectation-Maximization）算法，是一种用于对含有隐变量的概率模型的参数，进行极大似然估计的迭代算法。\n",
    "- EM 算法的基本思想是：近似极大化——通过迭代来逐步近似极大化。\n",
    "- 概率模型参数估计问题的目标是极大化对数似然函数"
   ]
  },
  {
   "cell_type": "markdown",
   "metadata": {},
   "source": [
    "## 用EM算法求解GMM\n",
    "\n",
    "- 高斯混合模型（GMM）,就是将若干个概率分布为高斯分布的分模型混合在一起的模型。\n",
    "- 中心极限定理：在适当的条件下，大量相互独立的随机变量的均值经适当标准化后，依分布收敛于高斯分布（即使这些变量自己的分布并不是高斯分布）——这就是中心极限定理。"
   ]
  }
 ],
 "metadata": {
  "kernelspec": {
   "display_name": "Python 3 (ipykernel)",
   "language": "python",
   "name": "python3"
  },
  "language_info": {
   "codemirror_mode": {
    "name": "ipython",
    "version": 3
   },
   "file_extension": ".py",
   "mimetype": "text/x-python",
   "name": "python",
   "nbconvert_exporter": "python",
   "pygments_lexer": "ipython3",
   "version": "3.11.4"
  }
 },
 "nbformat": 4,
 "nbformat_minor": 4
}
